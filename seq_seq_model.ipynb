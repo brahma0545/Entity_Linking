{
 "cells": [
  {
   "cell_type": "code",
   "execution_count": 1,
   "metadata": {
    "collapsed": true
   },
   "outputs": [],
   "source": [
    "# inspiration from NMT\n",
    "# i have used 'vendor name' as start token to the decoder.\n",
    "# as we can see this model is overfitting to the train data"
   ]
  },
  {
   "cell_type": "code",
   "execution_count": 1,
   "metadata": {
    "colab": {
     "base_uri": "https://localhost:8080/",
     "height": 72
    },
    "colab_type": "code",
    "id": "lRztipw_LND5",
    "outputId": "27369b95-2caf-4f80-f44f-43b31c89d189"
   },
   "outputs": [
    {
     "name": "stderr",
     "output_type": "stream",
     "text": [
      "/usr/local/lib/python3.6/dist-packages/statsmodels/tools/_testing.py:19: FutureWarning: pandas.util.testing is deprecated. Use the functions in the public API at pandas.testing instead.\n",
      "  import pandas.util.testing as tm\n"
     ]
    }
   ],
   "source": [
    "import tensorflow as tf\n",
    "import pandas as pd\n",
    "from tensorflow.keras.preprocessing.text import Tokenizer\n",
    "from tensorflow.keras.preprocessing.sequence import pad_sequences\n",
    "import numpy as np\n",
    "import seaborn as sns\n",
    "import matplotlib.pyplot as plt"
   ]
  },
  {
   "cell_type": "code",
   "execution_count": 2,
   "metadata": {
    "colab": {
     "base_uri": "https://localhost:8080/",
     "height": 197
    },
    "colab_type": "code",
    "id": "yfLhJTQPMDt8",
    "outputId": "70825c3e-8d76-461a-a0e1-eaf926b24f06"
   },
   "outputs": [
    {
     "data": {
      "text/html": [
       "<div>\n",
       "<style scoped>\n",
       "    .dataframe tbody tr th:only-of-type {\n",
       "        vertical-align: middle;\n",
       "    }\n",
       "\n",
       "    .dataframe tbody tr th {\n",
       "        vertical-align: top;\n",
       "    }\n",
       "\n",
       "    .dataframe thead th {\n",
       "        text-align: right;\n",
       "    }\n",
       "</style>\n",
       "<table border=\"1\" class=\"dataframe\">\n",
       "  <thead>\n",
       "    <tr style=\"text-align: right;\">\n",
       "      <th></th>\n",
       "      <th>line_item_nd</th>\n",
       "      <th>canonical_vendor_name</th>\n",
       "      <th>canonical_line_item_name_y</th>\n",
       "      <th>Y</th>\n",
       "    </tr>\n",
       "  </thead>\n",
       "  <tbody>\n",
       "    <tr>\n",
       "      <th>0</th>\n",
       "      <td>management services april #### services</td>\n",
       "      <td>##_minute_ventures</td>\n",
       "      <td>management services</td>\n",
       "      <td>1</td>\n",
       "    </tr>\n",
       "    <tr>\n",
       "      <th>1</th>\n",
       "      <td>june web media fee ### ### times ## percent co...</td>\n",
       "      <td>acqcom_digital_marketing</td>\n",
       "      <td>web media fee</td>\n",
       "      <td>1</td>\n",
       "    </tr>\n",
       "    <tr>\n",
       "      <th>2</th>\n",
       "      <td>business package</td>\n",
       "      <td>adjust</td>\n",
       "      <td>additional attributions</td>\n",
       "      <td>0</td>\n",
       "    </tr>\n",
       "    <tr>\n",
       "      <th>3</th>\n",
       "      <td>business package</td>\n",
       "      <td>adjust</td>\n",
       "      <td>business package</td>\n",
       "      <td>1</td>\n",
       "    </tr>\n",
       "    <tr>\n",
       "      <th>4</th>\n",
       "      <td>seo services</td>\n",
       "      <td>adlift</td>\n",
       "      <td>content marketing</td>\n",
       "      <td>0</td>\n",
       "    </tr>\n",
       "  </tbody>\n",
       "</table>\n",
       "</div>"
      ],
      "text/plain": [
       "                                        line_item_nd  ...  Y\n",
       "0            management services april #### services  ...  1\n",
       "1  june web media fee ### ### times ## percent co...  ...  1\n",
       "2                                   business package  ...  0\n",
       "3                                   business package  ...  1\n",
       "4                                       seo services  ...  0\n",
       "\n",
       "[5 rows x 4 columns]"
      ]
     },
     "execution_count": 2,
     "metadata": {
      "tags": []
     },
     "output_type": "execute_result"
    }
   ],
   "source": [
    "data=pd.read_csv('deep_learning_features.csv')\n",
    "data['canonical_vendor_name'] =data['canonical_vendor_name'].replace(' ', '_', regex=True)\n",
    "data['line_item_nd']=data['line_item_nd'].str.strip()\n",
    "data['canonical_vendor_name']=data['canonical_vendor_name'].str.strip()\n",
    "data['canonical_line_item_name_y']=data['canonical_line_item_name_y'].str.strip()\n",
    "data.head()"
   ]
  },
  {
   "cell_type": "code",
   "execution_count": 3,
   "metadata": {
    "colab": {},
    "colab_type": "code",
    "collapsed": true,
    "id": "8wxkUvU7MTZT"
   },
   "outputs": [],
   "source": [
    "all_strings = []\n",
    "for k in data.columns:\n",
    "    if not k=='Y':\n",
    "        strings=('\\n'.join(data[k])).split('\\n')\n",
    "        all_strings.extend(strings)"
   ]
  },
  {
   "cell_type": "code",
   "execution_count": 4,
   "metadata": {
    "colab": {},
    "colab_type": "code",
    "collapsed": true,
    "id": "5PwYDqHYNOC-"
   },
   "outputs": [],
   "source": [
    "def concat(x):\n",
    "    x,y = x[0],x[1]\n",
    "    return x.strip()+\" \"+y.strip()\n",
    "    \n",
    "data['item_name_x'] = data[['canonical_vendor_name','canonical_line_item_name_y']].apply(lambda x: concat(x),axis=1)"
   ]
  },
  {
   "cell_type": "code",
   "execution_count": 5,
   "metadata": {
    "colab": {},
    "colab_type": "code",
    "collapsed": true,
    "id": "6fs6IDiFsMTp"
   },
   "outputs": [],
   "source": [
    "data['item_name_y'] = data['canonical_line_item_name_y'].apply( lambda x: x+\" <END>\")\n",
    "data.drop(['canonical_line_item_name_y','canonical_vendor_name'], axis=1, inplace=True)"
   ]
  },
  {
   "cell_type": "code",
   "execution_count": 6,
   "metadata": {
    "colab": {
     "base_uri": "https://localhost:8080/",
     "height": 34
    },
    "colab_type": "code",
    "id": "KWv1JTLzM10-",
    "outputId": "36350878-2399-4c13-f07e-aafa0387d6b6"
   },
   "outputs": [
    {
     "data": {
      "text/plain": [
       "(True, list, 12089, '##_minute_ventures')"
      ]
     },
     "execution_count": 6,
     "metadata": {
      "tags": []
     },
     "output_type": "execute_result"
    }
   ],
   "source": [
    "'##_minute_ventures' in all_strings, type(all_strings), all_strings.index('##_minute_ventures'), all_strings[12089]"
   ]
  },
  {
   "cell_type": "code",
   "execution_count": 7,
   "metadata": {
    "colab": {},
    "colab_type": "code",
    "collapsed": true,
    "id": "h3TyIOUvx0Wy"
   },
   "outputs": [],
   "source": [
    "data=data[data['Y']==1]"
   ]
  },
  {
   "cell_type": "code",
   "execution_count": 8,
   "metadata": {
    "colab": {
     "base_uri": "https://localhost:8080/",
     "height": 34
    },
    "colab_type": "code",
    "id": "EN48V7HYnVt6",
    "outputId": "1a270fa0-471b-4cb5-f7c1-3306e07835ef"
   },
   "outputs": [
    {
     "data": {
      "text/plain": [
       "(483, 4)"
      ]
     },
     "execution_count": 8,
     "metadata": {
      "tags": []
     },
     "output_type": "execute_result"
    }
   ],
   "source": [
    "data.shape"
   ]
  },
  {
   "cell_type": "code",
   "execution_count": 9,
   "metadata": {
    "colab": {},
    "colab_type": "code",
    "collapsed": true,
    "id": "maklZrL4MK7u"
   },
   "outputs": [],
   "source": [
    "X_train=data.drop(['Y'], axis=1)\n",
    "Y_train=data['Y']"
   ]
  },
  {
   "cell_type": "code",
   "execution_count": 10,
   "metadata": {
    "colab": {},
    "colab_type": "code",
    "collapsed": true,
    "id": "ClVVdvw48YP1"
   },
   "outputs": [],
   "source": [
    "from sklearn.model_selection import train_test_split\n",
    "X_train, X_eval, Y_train, Y_eval = train_test_split(X_train, Y_train, test_size=0.2, stratify=Y_train)"
   ]
  },
  {
   "cell_type": "code",
   "execution_count": 11,
   "metadata": {
    "colab": {},
    "colab_type": "code",
    "collapsed": true,
    "id": "oGI-QzXSLa2c"
   },
   "outputs": [],
   "source": [
    "t = Tokenizer(filters='!\"$%&()*+,-./:;<=>?@[\\\\]^`{|}~\\t\\n')\n",
    "t.fit_on_texts(all_strings)"
   ]
  },
  {
   "cell_type": "code",
   "execution_count": 12,
   "metadata": {
    "colab": {
     "base_uri": "https://localhost:8080/",
     "height": 34
    },
    "colab_type": "code",
    "id": "tv3bzBYDVtp4",
    "outputId": "38ae05bd-2556-41ca-c74b-3423a9a84eed"
   },
   "outputs": [
    {
     "data": {
      "text/plain": [
       "1776"
      ]
     },
     "execution_count": 12,
     "metadata": {
      "tags": []
     },
     "output_type": "execute_result"
    }
   ],
   "source": [
    "t.word_index['##_minute_ventures']"
   ]
  },
  {
   "cell_type": "code",
   "execution_count": 13,
   "metadata": {
    "colab": {},
    "colab_type": "code",
    "collapsed": true,
    "id": "UgbEc6PwM-_O"
   },
   "outputs": [],
   "source": [
    "lengths_x=(X_train['line_item_nd'].str.split().apply(len)).values\n",
    "lengths_y=(X_train['item_name_x'].str.split().apply(len)).values"
   ]
  },
  {
   "cell_type": "code",
   "execution_count": 14,
   "metadata": {
    "colab": {
     "base_uri": "https://localhost:8080/",
     "height": 264
    },
    "colab_type": "code",
    "id": "7qmiOalBN7I9",
    "outputId": "86fb8476-f5cf-403d-e890-0df55a68175e"
   },
   "outputs": [
    {
     "data": {
      "image/png": "[encoded data removed]",
      "text/plain": [
       "<Figure size 432x288 with 1 Axes>"
      ]
     },
     "metadata": {
      "needs_background": "light",
      "tags": []
     },
     "output_type": "display_data"
    }
   ],
   "source": [
    "sns.kdeplot(lengths_x, label=\"input\")\n",
    "sns.kdeplot(lengths_y, label=\"output\")\n",
    "plt.show()"
   ]
  },
  {
   "cell_type": "code",
   "execution_count": 15,
   "metadata": {
    "colab": {
     "base_uri": "https://localhost:8080/",
     "height": 354
    },
    "colab_type": "code",
    "id": "EgTThqH3NhzV",
    "outputId": "81634695-f255-44bd-bc6e-dbdd6410c891"
   },
   "outputs": [
    {
     "name": "stdout",
     "output_type": "stream",
     "text": [
      "169 line_item_nd    lenovo thinkpad x# carbon #th gen ##qd ultrabo...\n",
      "item_name_x     sti_products lenovo thinkpad x# carbon #th gen...\n",
      "item_name_y          lenovo thinkpad x# carbon #th gen ##qd <END>\n",
      "Name: 9934, dtype: object\n",
      "303 line_item_nd    ixcc extra long iphone charger cable ## feet l...\n",
      "item_name_x     amazon_business ixcc extra long iphone charger...\n",
      "item_name_y     ixcc extra long iphone charger cable ## feet l...\n",
      "Name: 4002, dtype: object\n",
      "0 0.0 2.0\n",
      "10 2.0 3.0\n",
      "20 3.0 3.0\n",
      "30 4.0 4.0\n",
      "40 5.0 4.0\n",
      "50 6.0 4.0\n",
      "60 7.0 5.0\n",
      "70 8.0 5.5\n",
      "80 10.0 7.0\n",
      "90 14.5 11.0\n",
      "100 47.0 29.0\n"
     ]
    }
   ],
   "source": [
    "print(np.argmax(lengths_x), X_train.iloc[np.argmax(lengths_x)])\n",
    "print(np.argmax(lengths_y), X_train.iloc[np.argmax(lengths_y)])\n",
    "for i in range(0, 101, 10):\n",
    "    print(i, np.percentile(lengths_x, i), np.percentile(lengths_y, i))"
   ]
  },
  {
   "cell_type": "code",
   "execution_count": 16,
   "metadata": {
    "colab": {
     "base_uri": "https://localhost:8080/",
     "height": 212
    },
    "colab_type": "code",
    "id": "4X6s82EBOmV_",
    "outputId": "d060cbef-7a1a-405c-ef2f-b1c07c4a9acd"
   },
   "outputs": [
    {
     "name": "stdout",
     "output_type": "stream",
     "text": [
      "90 14.5 11.0\n",
      "91 16.350000000000023 11.350000000000023\n",
      "92 17.19999999999999 14.0\n",
      "93 18.0 14.0\n",
      "94 19.0 14.0\n",
      "95 20.0 18.75\n",
      "96 21.0 21.0\n",
      "97 23.0 22.899999999999977\n",
      "98 24.30000000000001 25.0\n",
      "99 26.0 26.0\n",
      "100 47.0 29.0\n"
     ]
    }
   ],
   "source": [
    "for i in range(90, 101, 1):\n",
    "    print(i, np.percentile(lengths_x, i), np.percentile(lengths_y, i))"
   ]
  },
  {
   "cell_type": "code",
   "execution_count": 17,
   "metadata": {
    "colab": {
     "base_uri": "https://localhost:8080/",
     "height": 123
    },
    "colab_type": "code",
    "id": "ggpcGv3bOuCZ",
    "outputId": "bb332b91-462e-4de5-9d3f-f54abc4be989"
   },
   "outputs": [
    {
     "name": "stdout",
     "output_type": "stream",
     "text": [
      "input dimes (386, 25)\n",
      "link item (386, 25)\n",
      "link item (386, 25)\n",
      "input dimes (97, 25)\n",
      "link item (97, 25)\n",
      "link item (97, 25)\n"
     ]
    }
   ],
   "source": [
    "input_encoder_train = t.texts_to_sequences(X_train['line_item_nd'])\n",
    "input_encoder_train = pad_sequences(input_encoder_train, maxlen=25,padding='post')\n",
    "print(\"input dimes\",input_encoder_train.shape)\n",
    "\n",
    "input_decoder_train = t.texts_to_sequences(X_train['item_name_x'])\n",
    "input_decoder_train = pad_sequences(input_decoder_train, maxlen=25,padding='post')\n",
    "print(\"link item\",input_decoder_train.shape)\n",
    "\n",
    "output_decoder_train = t.texts_to_sequences(X_train['item_name_y'])\n",
    "output_decoder_train = pad_sequences(output_decoder_train, maxlen=25,padding='post')\n",
    "print(\"link item\",output_decoder_train.shape)\n",
    "\n",
    "#====================\n",
    "input_encoder_eval = t.texts_to_sequences(X_eval['line_item_nd'])\n",
    "input_encoder_eval = pad_sequences(input_encoder_eval, maxlen=25,padding='post')\n",
    "print(\"input dimes\",input_encoder_eval.shape)\n",
    "\n",
    "input_decoder_eval = t.texts_to_sequences(X_eval['item_name_x'])\n",
    "input_decoder_eval = pad_sequences(input_decoder_eval, maxlen=25,padding='post')\n",
    "print(\"link item\",input_decoder_eval.shape)\n",
    "\n",
    "output_decoder_eval = t.texts_to_sequences(X_eval['item_name_y'])\n",
    "output_decoder_eval = pad_sequences(output_decoder_eval, maxlen=25,padding='post')\n",
    "print(\"link item\",output_decoder_eval.shape)\n",
    "#====================\n"
   ]
  },
  {
   "cell_type": "code",
   "execution_count": 18,
   "metadata": {
    "colab": {},
    "colab_type": "code",
    "collapsed": true,
    "id": "bEljUylJQYje"
   },
   "outputs": [],
   "source": [
    "# !wget http://nlp.stanford.edu/data/glove.42B.300d.zip\n",
    "# !unzip glove.42B.300d.zip"
   ]
  },
  {
   "cell_type": "code",
   "execution_count": 19,
   "metadata": {
    "colab": {},
    "colab_type": "code",
    "collapsed": true,
    "id": "jGEQSW_z_EZK"
   },
   "outputs": [],
   "source": [
    "vocab = set(dict(t.word_index.items()).keys())"
   ]
  },
  {
   "cell_type": "code",
   "execution_count": 20,
   "metadata": {
    "colab": {},
    "colab_type": "code",
    "collapsed": true,
    "id": "KoC6iOXlBClU"
   },
   "outputs": [],
   "source": [
    "vocab_size = len(t.word_index) + 1"
   ]
  },
  {
   "cell_type": "code",
   "execution_count": 21,
   "metadata": {
    "colab": {
     "base_uri": "https://localhost:8080/",
     "height": 34
    },
    "colab_type": "code",
    "id": "RBQfT6bx-lej",
    "outputId": "ab6b5055-e149-4dd4-b9ae-38141782bd32"
   },
   "outputs": [
    {
     "name": "stdout",
     "output_type": "stream",
     "text": [
      "Found word vectors  1657 out of 1822\n"
     ]
    }
   ],
   "source": [
    "embeddings_index = {}\n",
    "with open('glove.42B.300d.txt', 'r') as f:\n",
    "    for line in f:\n",
    "        values = line.split()\n",
    "        word  = values[0]\n",
    "        coefs = np.asarray(values[1:], dtype='float32')\n",
    "        if word in vocab:\n",
    "            embeddings_index[word] = coefs\n",
    "\n",
    "print('Found word vectors ', len(embeddings_index), \"out of\", vocab_size)\n",
    "# create a weight matrix for words in training docs\n",
    "embedding_matrix = np.zeros((vocab_size, 300))\n",
    "for word, i in t.word_index.items():\n",
    "    embedding_vector = embeddings_index.get(word)\n",
    "    if embedding_vector is not None:\n",
    "        embedding_matrix[i] = embedding_vector"
   ]
  },
  {
   "cell_type": "code",
   "execution_count": 22,
   "metadata": {
    "colab": {},
    "colab_type": "code",
    "collapsed": true,
    "id": "Uh9iOMGIQ8Vr"
   },
   "outputs": [],
   "source": [
    "from tensorflow.keras.layers import Input, LSTM, Embedding, Dot, Dense, Dropout\n",
    "from tensorflow.keras.models import Model"
   ]
  },
  {
   "cell_type": "code",
   "execution_count": 23,
   "metadata": {
    "colab": {},
    "colab_type": "code",
    "collapsed": true,
    "id": "acFAsKukf_vb"
   },
   "outputs": [],
   "source": [
    "from sklearn.metrics import roc_auc_score\n",
    "def auroc(y_true, y_pred):\n",
    "    y_true= tf.reshape(y_true, shape=(-1,))\n",
    "    if tf.unique(y_true)[0].shape[0]==1:\n",
    "        print(tf.unique(y_true)[0].shape, \"hello\")\n",
    "        return 0.5\n",
    "    else:\n",
    "        return tf.py_function(roc_auc_score, (y_true, y_pred), tf.double)"
   ]
  },
  {
   "cell_type": "code",
   "execution_count": 24,
   "metadata": {
    "colab": {},
    "colab_type": "code",
    "collapsed": true,
    "id": "PQfAKHFURPpn"
   },
   "outputs": [],
   "source": [
    "class Encoder(tf.keras.layers.Layer):\n",
    "    def __init__(self, vocab_size, embedding_dim, input_length, enc_units):\n",
    "        super().__init__()\n",
    "        self.vocab_size = vocab_size\n",
    "        self.embedding_dim = embedding_dim\n",
    "        self.input_length = input_length\n",
    "        self.enc_units= enc_units\n",
    "        self.lstm_output = 0\n",
    "        self.state_h=0\n",
    "        self.state_c=0\n",
    "        \n",
    "    def build(self, input_shape):\n",
    "        self.embedding = Embedding(input_dim=self.vocab_size, output_dim=self.embedding_dim, input_length=self.input_length,\n",
    "                           mask_zero=True, name=\"embedding_layer_encoder\", weights=[embedding_matrix], trainable=False)\n",
    "        self.lstm = LSTM(self.enc_units, return_state=True, return_sequences=True, name=\"Encoder_LSTM\")\n",
    "        \n",
    "    def call(self, input_sentances, training=True):\n",
    "        # print(\"ENCODER ==> INPUT SQUENCES SHAPE :\",input_sentances.shape)\n",
    "        input_embedd                           = self.embedding(input_sentances)\n",
    "        # print(\"ENCODER ==> AFTER EMBEDDING THE INPUT SHAPE :\",input_embedd.shape)\n",
    "        self.lstm_output, self.lstm_state_h,self.lstm_state_c = self.lstm(input_embedd)\n",
    "        return self.lstm_output, self.lstm_state_h,self.lstm_state_c\n",
    "    def get_states(self):\n",
    "        return self.state_h,self.state_c\n",
    "    \n",
    "class Decoder(tf.keras.layers.Layer):\n",
    "    def __init__(self, vocab_size, embedding_dim, input_length, dec_units):\n",
    "        super().__init__()\n",
    "        self.vocab_size = vocab_size\n",
    "        self.embedding_dim = embedding_dim\n",
    "        self.dec_units = dec_units\n",
    "        self.input_length = input_length\n",
    "\n",
    "    def build(self, input_shape):\n",
    "        self.embedding = Embedding(input_dim= self.vocab_size, output_dim=self.embedding_dim, input_length=input_shape,\n",
    "                           mask_zero=True, name=\"embedding_layer_decoder\", weights=[embedding_matrix], trainable=False)\n",
    "        self.lstm = LSTM(self.dec_units, return_sequences=True, return_state=True, name=\"Encoder_LSTM\")\n",
    "        \n",
    "    def call(self, target_sentances, state_h, state_c):\n",
    "        # print(\"DECODER ==> INPUT SQUENCES SHAPE :\",target_sentances.shape)\n",
    "        target_embedd           = self.embedding(target_sentances)\n",
    "        # print(\"WE ARE INITIALIZING DECODER WITH ENCODER STATES :\",state_h.shape, state_c.shape)\n",
    "        lstm_output, _,_        = self.lstm(target_embedd, initial_state=[state_h, state_c])\n",
    "        return lstm_output"
   ]
  },
  {
   "cell_type": "code",
   "execution_count": 25,
   "metadata": {
    "colab": {},
    "colab_type": "code",
    "collapsed": true,
    "id": "Jsg7uvRw3Kix"
   },
   "outputs": [],
   "source": [
    "class MyModel(Model):\n",
    "    def __init__(self, encoder_inputs_length,decoder_inputs_length, output_vocab_size):\n",
    "        super().__init__() # https://stackoverflow.com/a/27134600/4084039\n",
    "        self.encoder = Encoder(vocab_size=vocab_size, embedding_dim=300, input_length=encoder_inputs_length, enc_units=100)\n",
    "        self.decoder = Decoder(vocab_size=vocab_size, embedding_dim=300, input_length=decoder_inputs_length, dec_units=100)\n",
    "        self.dense   = Dense(output_vocab_size, activation='softmax')\n",
    "        self.drop  = Dropout(rate=0.4)\n",
    "        \n",
    "    def call(self, data):\n",
    "        input,output = data[0], data[1]\n",
    "        # print(\"=\"*20, \"ENCODER\", \"=\"*20)\n",
    "        encoder_output, encoder_h, encoder_c = self.encoder(input)\n",
    "        # print(\"-\"*27)\n",
    "        # print(\"ENCODER ==> OUTPUT SHAPE\",encoder_output.shape)\n",
    "        # print(\"ENCODER ==> HIDDEN STATE SHAPE\",encoder_h.shape)\n",
    "        # print(\"ENCODER ==> CELL STATE SHAPE\", encoder_c.shape)\n",
    "        # print(\"=\"*20, \"DECODER\", \"=\"*20)\n",
    "        decoder_output                       = self.decoder(output, encoder_h, encoder_c)\n",
    "        dropout                              = self.drop(decoder_output)\n",
    "        output                               = self.dense(dropout)\n",
    "        # print(\"-\"*27)\n",
    "        # print(\"FINAL OUTPUT SHAPE\",output.shape)\n",
    "        # print(\"=\"*50)\n",
    "        return output\n",
    "without_vendor  = MyModel(encoder_inputs_length=25,decoder_inputs_length=25,output_vocab_size=vocab_size)"
   ]
  },
  {
   "cell_type": "code",
   "execution_count": 26,
   "metadata": {
    "colab": {
     "base_uri": "https://localhost:8080/",
     "height": 1000
    },
    "colab_type": "code",
    "id": "PaO68nO6xYE6",
    "outputId": "16099a7f-94d0-4220-db53-3d39c18877ba"
   },
   "outputs": [
    {
     "name": "stdout",
     "output_type": "stream",
     "text": [
      "Epoch 1/100\n",
      "13/13 [==============================] - 4s 293ms/step - loss: 1.7433 - val_loss: 1.6893\n",
      "Epoch 2/100\n",
      "13/13 [==============================] - 2s 132ms/step - loss: 1.5735 - val_loss: 1.4800\n",
      "Epoch 3/100\n",
      "13/13 [==============================] - 2s 132ms/step - loss: 1.3324 - val_loss: 1.4007\n",
      "Epoch 4/100\n",
      "13/13 [==============================] - 2s 130ms/step - loss: 1.2553 - val_loss: 1.4157\n",
      "Epoch 5/100\n",
      "13/13 [==============================] - 2s 131ms/step - loss: 1.2273 - val_loss: 1.4085\n",
      "Epoch 6/100\n",
      "13/13 [==============================] - 2s 132ms/step - loss: 1.2044 - val_loss: 1.3926\n",
      "Epoch 7/100\n",
      "13/13 [==============================] - 2s 131ms/step - loss: 1.1811 - val_loss: 1.3761\n",
      "Epoch 8/100\n",
      "13/13 [==============================] - 2s 135ms/step - loss: 1.1549 - val_loss: 1.3572\n",
      "Epoch 9/100\n",
      "13/13 [==============================] - 2s 132ms/step - loss: 1.1382 - val_loss: 1.3470\n",
      "Epoch 10/100\n",
      "13/13 [==============================] - 2s 135ms/step - loss: 1.1149 - val_loss: 1.3376\n",
      "Epoch 11/100\n",
      "13/13 [==============================] - 2s 132ms/step - loss: 1.0931 - val_loss: 1.3306\n",
      "Epoch 12/100\n",
      "13/13 [==============================] - 2s 133ms/step - loss: 1.0747 - val_loss: 1.3153\n",
      "Epoch 13/100\n",
      "13/13 [==============================] - 2s 134ms/step - loss: 1.0587 - val_loss: 1.3081\n",
      "Epoch 14/100\n",
      "13/13 [==============================] - 2s 136ms/step - loss: 1.0401 - val_loss: 1.3094\n",
      "Epoch 15/100\n",
      "13/13 [==============================] - 2s 132ms/step - loss: 1.0227 - val_loss: 1.2911\n",
      "Epoch 16/100\n",
      "13/13 [==============================] - 2s 132ms/step - loss: 1.0048 - val_loss: 1.2889\n",
      "Epoch 17/100\n",
      "13/13 [==============================] - 2s 135ms/step - loss: 0.9872 - val_loss: 1.2814\n",
      "Epoch 18/100\n",
      "13/13 [==============================] - 2s 133ms/step - loss: 0.9688 - val_loss: 1.2770\n",
      "Epoch 19/100\n",
      "13/13 [==============================] - 2s 135ms/step - loss: 0.9564 - val_loss: 1.2681\n",
      "Epoch 20/100\n",
      "13/13 [==============================] - 2s 132ms/step - loss: 0.9381 - val_loss: 1.2592\n",
      "Epoch 21/100\n",
      "13/13 [==============================] - 2s 132ms/step - loss: 0.9197 - val_loss: 1.2526\n",
      "Epoch 22/100\n",
      "13/13 [==============================] - 2s 140ms/step - loss: 0.9066 - val_loss: 1.2506\n",
      "Epoch 23/100\n",
      "13/13 [==============================] - 2s 131ms/step - loss: 0.8903 - val_loss: 1.2457\n",
      "Epoch 24/100\n",
      "13/13 [==============================] - 2s 132ms/step - loss: 0.8751 - val_loss: 1.2442\n",
      "Epoch 25/100\n",
      "13/13 [==============================] - 2s 131ms/step - loss: 0.8560 - val_loss: 1.2401\n",
      "Epoch 26/100\n",
      "13/13 [==============================] - 2s 132ms/step - loss: 0.8439 - val_loss: 1.2277\n",
      "Epoch 27/100\n",
      "13/13 [==============================] - 2s 134ms/step - loss: 0.8304 - val_loss: 1.2323\n",
      "Epoch 28/100\n",
      "13/13 [==============================] - 2s 132ms/step - loss: 0.8172 - val_loss: 1.2228\n",
      "Epoch 29/100\n",
      "13/13 [==============================] - 2s 131ms/step - loss: 0.8017 - val_loss: 1.2194\n",
      "Epoch 30/100\n",
      "13/13 [==============================] - 2s 131ms/step - loss: 0.7894 - val_loss: 1.2180\n",
      "Epoch 31/100\n",
      "13/13 [==============================] - 2s 133ms/step - loss: 0.7725 - val_loss: 1.2250\n",
      "Epoch 32/100\n",
      "13/13 [==============================] - 2s 132ms/step - loss: 0.7596 - val_loss: 1.2326\n",
      "Epoch 33/100\n",
      "13/13 [==============================] - 2s 135ms/step - loss: 0.7434 - val_loss: 1.2191\n",
      "Epoch 34/100\n",
      "13/13 [==============================] - 2s 131ms/step - loss: 0.7311 - val_loss: 1.2219\n",
      "Epoch 35/100\n",
      "13/13 [==============================] - 2s 134ms/step - loss: 0.7211 - val_loss: 1.2228\n",
      "Epoch 36/100\n",
      "13/13 [==============================] - 2s 131ms/step - loss: 0.7079 - val_loss: 1.2094\n",
      "Epoch 37/100\n",
      "13/13 [==============================] - 2s 133ms/step - loss: 0.6962 - val_loss: 1.2049\n",
      "Epoch 38/100\n",
      "13/13 [==============================] - 2s 134ms/step - loss: 0.6846 - val_loss: 1.2119\n",
      "Epoch 39/100\n",
      "13/13 [==============================] - 2s 132ms/step - loss: 0.6664 - val_loss: 1.1813\n",
      "Epoch 40/100\n",
      "13/13 [==============================] - 2s 131ms/step - loss: 0.6613 - val_loss: 1.1928\n",
      "Epoch 41/100\n",
      "13/13 [==============================] - 2s 131ms/step - loss: 0.6452 - val_loss: 1.1994\n",
      "Epoch 42/100\n",
      "13/13 [==============================] - 2s 130ms/step - loss: 0.6296 - val_loss: 1.2012\n",
      "Epoch 43/100\n",
      "13/13 [==============================] - 2s 135ms/step - loss: 0.6196 - val_loss: 1.2015\n",
      "Epoch 44/100\n",
      "13/13 [==============================] - 2s 131ms/step - loss: 0.6093 - val_loss: 1.2030\n",
      "Epoch 45/100\n",
      "13/13 [==============================] - 2s 132ms/step - loss: 0.5991 - val_loss: 1.1941\n",
      "Epoch 46/100\n",
      "13/13 [==============================] - 2s 132ms/step - loss: 0.5824 - val_loss: 1.2068\n",
      "Epoch 47/100\n",
      "13/13 [==============================] - 2s 133ms/step - loss: 0.5767 - val_loss: 1.1855\n",
      "Epoch 48/100\n",
      "13/13 [==============================] - 2s 134ms/step - loss: 0.5690 - val_loss: 1.2102\n",
      "Epoch 49/100\n",
      "13/13 [==============================] - 2s 133ms/step - loss: 0.5545 - val_loss: 1.2083\n",
      "Epoch 50/100\n",
      "13/13 [==============================] - 2s 133ms/step - loss: 0.5443 - val_loss: 1.2092\n",
      "Epoch 51/100\n",
      "13/13 [==============================] - 2s 133ms/step - loss: 0.5290 - val_loss: 1.1999\n",
      "Epoch 52/100\n",
      "13/13 [==============================] - 2s 132ms/step - loss: 0.5235 - val_loss: 1.1949\n",
      "Epoch 53/100\n",
      "13/13 [==============================] - 2s 130ms/step - loss: 0.5102 - val_loss: 1.1977\n",
      "Epoch 54/100\n",
      "13/13 [==============================] - 2s 134ms/step - loss: 0.5011 - val_loss: 1.1875\n",
      "Epoch 55/100\n",
      "13/13 [==============================] - 2s 132ms/step - loss: 0.4878 - val_loss: 1.1894\n",
      "Epoch 56/100\n",
      "13/13 [==============================] - 2s 137ms/step - loss: 0.4810 - val_loss: 1.1947\n",
      "Epoch 57/100\n",
      "13/13 [==============================] - 2s 141ms/step - loss: 0.4674 - val_loss: 1.1943\n",
      "Epoch 58/100\n",
      "13/13 [==============================] - 2s 135ms/step - loss: 0.4583 - val_loss: 1.2021\n",
      "Epoch 59/100\n",
      "13/13 [==============================] - 2s 164ms/step - loss: 0.4510 - val_loss: 1.1929\n",
      "Epoch 60/100\n",
      "13/13 [==============================] - 2s 150ms/step - loss: 0.4468 - val_loss: 1.1892\n",
      "Epoch 61/100\n",
      "13/13 [==============================] - 2s 134ms/step - loss: 0.4435 - val_loss: 1.2082\n",
      "Epoch 62/100\n",
      "13/13 [==============================] - 2s 134ms/step - loss: 0.4297 - val_loss: 1.1981\n",
      "Epoch 63/100\n",
      "13/13 [==============================] - 2s 132ms/step - loss: 0.4171 - val_loss: 1.1813\n",
      "Epoch 64/100\n",
      "13/13 [==============================] - 2s 131ms/step - loss: 0.4130 - val_loss: 1.2020\n",
      "Epoch 65/100\n",
      "13/13 [==============================] - 2s 134ms/step - loss: 0.3965 - val_loss: 1.2157\n",
      "Epoch 66/100\n",
      "13/13 [==============================] - 2s 134ms/step - loss: 0.3888 - val_loss: 1.2026\n",
      "Epoch 67/100\n",
      "13/13 [==============================] - 2s 133ms/step - loss: 0.3823 - val_loss: 1.1931\n",
      "Epoch 68/100\n",
      "13/13 [==============================] - 2s 132ms/step - loss: 0.3734 - val_loss: 1.2002\n",
      "Epoch 69/100\n",
      "13/13 [==============================] - 2s 131ms/step - loss: 0.3696 - val_loss: 1.2102\n",
      "Epoch 70/100\n",
      "13/13 [==============================] - 2s 131ms/step - loss: 0.3569 - val_loss: 1.1921\n",
      "Epoch 71/100\n",
      "13/13 [==============================] - 2s 134ms/step - loss: 0.3468 - val_loss: 1.2027\n",
      "Epoch 72/100\n",
      "13/13 [==============================] - 2s 133ms/step - loss: 0.3425 - val_loss: 1.1910\n",
      "Epoch 73/100\n",
      "13/13 [==============================] - 2s 131ms/step - loss: 0.3362 - val_loss: 1.1965\n",
      "Epoch 74/100\n",
      "13/13 [==============================] - 2s 135ms/step - loss: 0.3310 - val_loss: 1.2033\n",
      "Epoch 75/100\n",
      "13/13 [==============================] - 2s 131ms/step - loss: 0.3201 - val_loss: 1.1790\n",
      "Epoch 76/100\n",
      "13/13 [==============================] - 2s 132ms/step - loss: 0.3142 - val_loss: 1.1893\n",
      "Epoch 77/100\n",
      "13/13 [==============================] - 2s 134ms/step - loss: 0.3129 - val_loss: 1.1954\n",
      "Epoch 78/100\n",
      "13/13 [==============================] - 2s 132ms/step - loss: 0.3065 - val_loss: 1.1971\n",
      "Epoch 79/100\n",
      "13/13 [==============================] - 2s 132ms/step - loss: 0.2988 - val_loss: 1.1793\n",
      "Epoch 80/100\n",
      "13/13 [==============================] - 2s 132ms/step - loss: 0.2910 - val_loss: 1.1831\n",
      "Epoch 81/100\n",
      "13/13 [==============================] - 2s 132ms/step - loss: 0.2872 - val_loss: 1.1766\n",
      "Epoch 82/100\n",
      "13/13 [==============================] - 2s 136ms/step - loss: 0.2761 - val_loss: 1.1960\n",
      "Epoch 83/100\n",
      "13/13 [==============================] - 2s 134ms/step - loss: 0.2677 - val_loss: 1.1872\n",
      "Epoch 84/100\n",
      "13/13 [==============================] - 2s 131ms/step - loss: 0.2677 - val_loss: 1.1860\n",
      "Epoch 85/100\n",
      "13/13 [==============================] - 2s 133ms/step - loss: 0.2599 - val_loss: 1.1988\n",
      "Epoch 86/100\n",
      "13/13 [==============================] - 2s 133ms/step - loss: 0.2555 - val_loss: 1.1979\n",
      "Epoch 87/100\n",
      "13/13 [==============================] - 2s 131ms/step - loss: 0.2515 - val_loss: 1.1861\n",
      "Epoch 88/100\n",
      "13/13 [==============================] - 2s 135ms/step - loss: 0.2454 - val_loss: 1.1884\n",
      "Epoch 89/100\n",
      "13/13 [==============================] - 2s 133ms/step - loss: 0.2426 - val_loss: 1.1875\n",
      "Epoch 90/100\n",
      "13/13 [==============================] - 2s 134ms/step - loss: 0.2349 - val_loss: 1.1946\n",
      "Epoch 91/100\n",
      "13/13 [==============================] - 2s 133ms/step - loss: 0.2329 - val_loss: 1.2003\n",
      "Epoch 92/100\n",
      "13/13 [==============================] - 2s 134ms/step - loss: 0.2271 - val_loss: 1.1698\n",
      "Epoch 93/100\n",
      "13/13 [==============================] - 2s 129ms/step - loss: 0.2232 - val_loss: 1.1973\n",
      "Epoch 94/100\n",
      "13/13 [==============================] - 2s 132ms/step - loss: 0.2153 - val_loss: 1.1855\n",
      "Epoch 95/100\n",
      "13/13 [==============================] - 2s 132ms/step - loss: 0.2146 - val_loss: 1.1861\n",
      "Epoch 96/100\n",
      "13/13 [==============================] - 2s 132ms/step - loss: 0.2101 - val_loss: 1.1887\n",
      "Epoch 97/100\n",
      "13/13 [==============================] - 2s 131ms/step - loss: 0.2061 - val_loss: 1.1748\n",
      "Epoch 98/100\n",
      "13/13 [==============================] - 2s 130ms/step - loss: 0.2024 - val_loss: 1.1743\n",
      "Epoch 99/100\n",
      "13/13 [==============================] - 2s 131ms/step - loss: 0.1981 - val_loss: 1.1907\n",
      "Epoch 100/100\n",
      "13/13 [==============================] - 2s 137ms/step - loss: 0.1931 - val_loss: 1.1798\n",
      "Model: \"my_model\"\n",
      "_________________________________________________________________\n",
      "Layer (type)                 Output Shape              Param #   \n",
      "=================================================================\n",
      "encoder (Encoder)            multiple                  707000    \n",
      "_________________________________________________________________\n",
      "decoder (Decoder)            multiple                  707000    \n",
      "_________________________________________________________________\n",
      "dense (Dense)                multiple                  184022    \n",
      "_________________________________________________________________\n",
      "dropout (Dropout)            multiple                  0         \n",
      "=================================================================\n",
      "Total params: 1,598,022\n",
      "Trainable params: 504,822\n",
      "Non-trainable params: 1,093,200\n",
      "_________________________________________________________________\n"
     ]
    }
   ],
   "source": [
    "# loss_object = loss_object = tf.keras.losses.SparseCategoricalCrossentropy(from_logits=True, reduction='none')\n",
    "optimizer = tf.keras.optimizers.Adam()\n",
    "\n",
    "without_vendor.compile(optimizer=optimizer,loss='sparse_categorical_crossentropy')\n",
    "\n",
    "without_vendor.fit([input_encoder_train, input_decoder_train], output_decoder_train, epochs=100, \\\n",
    "          validation_data=([input_encoder_eval, input_decoder_eval], output_decoder_eval),\\\n",
    "          )\n",
    "without_vendor.summary()"
   ]
  },
  {
   "cell_type": "code",
   "execution_count": 27,
   "metadata": {
    "colab": {
     "base_uri": "https://localhost:8080/",
     "height": 567
    },
    "colab_type": "code",
    "id": "PAPyu_RM_hoN",
    "outputId": "99211d77-1989-4ea4-fb18-e998077fd64c"
   },
   "outputs": [
    {
     "name": "stdout",
     "output_type": "stream",
     "text": [
      "============================== Inference ==============================\n",
      "[1498 1499    0    0    0    0    0    0    0    0    0    0    0    0\n",
      "    0    0    0    0    0    0    0    0    0    0    0]\n",
      "1776\n",
      "-------------------- started predition --------------------\n",
      "at time step 0 the word is  ##_minute_ventures\n",
      "at time step 0 the word is  [[42]] disposable\n",
      "at time step 0 the word is  [[78]] charge\n",
      "at time step 0 the word is  [[25]] macbook\n",
      "at time step 0 the word is  [[93]] camera\n",
      "at time step 0 the word is  [[25]] macbook\n",
      "at time step 0 the word is  [[25]] macbook\n",
      "at time step 0 the word is  [[25]] macbook\n",
      "at time step 0 the word is  [[25]] macbook\n",
      "at time step 0 the word is  [[25]] macbook\n",
      "at time step 0 the word is  [[25]] macbook\n",
      "at time step 0 the word is  [[25]] macbook\n",
      "at time step 0 the word is  [[79]] annual\n",
      "at time step 0 the word is  [[62]] data\n",
      "at time step 0 the word is  [[70]] disks\n",
      "at time step 0 the word is  [[70]] disks\n",
      "at time step 0 the word is  [[70]] disks\n",
      "at time step 0 the word is  [[70]] disks\n",
      "at time step 0 the word is  [[70]] disks\n",
      "at time step 0 the word is  [[70]] disks\n",
      "at time step 0 the word is  [[70]] disks\n",
      "at time step 0 the word is  [[70]] disks\n",
      "at time step 0 the word is  [[70]] disks\n",
      "at time step 0 the word is  [[70]] disks\n",
      "at time step 0 the word is  [[23]] inch\n",
      "at time step 0 the word is  [[23]] inch\n"
     ]
    }
   ],
   "source": [
    "print(\"=\" * 30, \"Inference\", \"=\" * 30)\n",
    "print(input_encoder_train[0])\n",
    "print(t.word_index['##_minute_ventures'])\n",
    "enc_output, enc_state_h, enc_state_c = without_vendor.layers[0](np.expand_dims(input_encoder_train[0], 0))\n",
    "states_values = [enc_state_h, enc_state_c]\n",
    "pred = []\n",
    "cur_vec = np.array([[1776]])\n",
    "print('-'*20,\"started predition\",\"-\"*20)\n",
    "print(\"at time step 0 the word is \", t.index_word[1776])\n",
    "for i in range(25):\n",
    "    cur_emb = without_vendor.layers[1].embedding(cur_vec)\n",
    "    [infe_output, state_h, state_c] = without_vendor.layers[1].lstm(cur_emb, initial_state=states_values)\n",
    "    states_values = [state_h, state_c]\n",
    "    # np.argmax(infe_output) will be a single value, which represents the the index of predicted word\n",
    "    # but to pass this data into next time step embedding layer, we are reshaping it into (1,1) shape\n",
    "    cur_vec = np.reshape(np.argmax(infe_output), (1, 1))\n",
    "    print(\"at time step 0 the word is \", cur_vec, t.index_word[cur_vec[0][0]])\n",
    "    pred.append(cur_vec)"
   ]
  }
 ],
 "metadata": {
  "colab": {
   "collapsed_sections": [],
   "name": "seq-seq_model",
   "provenance": [],
   "toc_visible": true
  },
  "kernelspec": {
   "display_name": "Python 3",
   "language": "python",
   "name": "python3"
  },
  "language_info": {
   "codemirror_mode": {
    "name": "ipython",
    "version": 3
   },
   "file_extension": ".py",
   "mimetype": "text/x-python",
   "name": "python",
   "nbconvert_exporter": "python",
   "pygments_lexer": "ipython3",
   "version": "3.6.2"
  }
 },
 "nbformat": 4,
 "nbformat_minor": 1
}
