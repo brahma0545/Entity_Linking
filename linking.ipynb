{
 "cells": [
  {
   "cell_type": "markdown",
   "metadata": {},
   "source": [
    "### Most of the code is self explanatory"
   ]
  },
  {
   "cell_type": "code",
   "execution_count": 17,
   "metadata": {
    "colab": {},
    "colab_type": "code",
    "collapsed": true,
    "id": "lRztipw_LND5"
   },
   "outputs": [],
   "source": [
    "import tensorflow as tf\n",
    "import pandas as pd\n",
    "from tensorflow.keras.preprocessing.text import Tokenizer\n",
    "from tensorflow.keras.preprocessing.sequence import pad_sequences\n",
    "import numpy as np\n",
    "import seaborn as sns\n",
    "import matplotlib.pyplot as plt"
   ]
  },
  {
   "cell_type": "code",
   "execution_count": 18,
   "metadata": {
    "colab": {
     "base_uri": "https://localhost:8080/",
     "height": 197
    },
    "colab_type": "code",
    "id": "yfLhJTQPMDt8",
    "outputId": "5475d3ff-426d-477d-c28a-a53ed8163b51"
   },
   "outputs": [
    {
     "data": {
      "text/html": [
       "<div>\n",
       "<style scoped>\n",
       "    .dataframe tbody tr th:only-of-type {\n",
       "        vertical-align: middle;\n",
       "    }\n",
       "\n",
       "    .dataframe tbody tr th {\n",
       "        vertical-align: top;\n",
       "    }\n",
       "\n",
       "    .dataframe thead th {\n",
       "        text-align: right;\n",
       "    }\n",
       "</style>\n",
       "<table border=\"1\" class=\"dataframe\">\n",
       "  <thead>\n",
       "    <tr style=\"text-align: right;\">\n",
       "      <th></th>\n",
       "      <th>line_item_nd</th>\n",
       "      <th>canonical_vendor_name</th>\n",
       "      <th>canonical_line_item_name_y</th>\n",
       "      <th>Y</th>\n",
       "    </tr>\n",
       "  </thead>\n",
       "  <tbody>\n",
       "    <tr>\n",
       "      <th>0</th>\n",
       "      <td>management services april #### services</td>\n",
       "      <td>##_minute_ventures</td>\n",
       "      <td>management services</td>\n",
       "      <td>1</td>\n",
       "    </tr>\n",
       "    <tr>\n",
       "      <th>1</th>\n",
       "      <td>june web media fee ### ### times ## percent co...</td>\n",
       "      <td>acqcom_digital_marketing</td>\n",
       "      <td>web media fee</td>\n",
       "      <td>1</td>\n",
       "    </tr>\n",
       "    <tr>\n",
       "      <th>2</th>\n",
       "      <td>business package</td>\n",
       "      <td>adjust</td>\n",
       "      <td>additional attributions</td>\n",
       "      <td>0</td>\n",
       "    </tr>\n",
       "    <tr>\n",
       "      <th>3</th>\n",
       "      <td>business package</td>\n",
       "      <td>adjust</td>\n",
       "      <td>business package</td>\n",
       "      <td>1</td>\n",
       "    </tr>\n",
       "    <tr>\n",
       "      <th>4</th>\n",
       "      <td>seo services</td>\n",
       "      <td>adlift</td>\n",
       "      <td>content marketing</td>\n",
       "      <td>0</td>\n",
       "    </tr>\n",
       "  </tbody>\n",
       "</table>\n",
       "</div>"
      ],
      "text/plain": [
       "                                        line_item_nd  ...  Y\n",
       "0            management services april #### services  ...  1\n",
       "1  june web media fee ### ### times ## percent co...  ...  1\n",
       "2                                   business package  ...  0\n",
       "3                                   business package  ...  1\n",
       "4                                       seo services  ...  0\n",
       "\n",
       "[5 rows x 4 columns]"
      ]
     },
     "execution_count": 18,
     "metadata": {
      "tags": []
     },
     "output_type": "execute_result"
    }
   ],
   "source": [
    "data=pd.read_csv('deep_learning_features.csv')\n",
    "data['canonical_vendor_name'] =data['canonical_vendor_name'].replace(' ', '_', regex=True)\n",
    "data['line_item_nd']=data['line_item_nd'].str.strip()\n",
    "data['canonical_vendor_name']=data['canonical_vendor_name'].str.strip()\n",
    "data['canonical_line_item_name_y']=data['canonical_line_item_name_y'].str.strip()\n",
    "data.head()"
   ]
  },
  {
   "cell_type": "code",
   "execution_count": 19,
   "metadata": {
    "colab": {
     "base_uri": "https://localhost:8080/",
     "height": 217
    },
    "colab_type": "code",
    "id": "h3TyIOUvx0Wy",
    "outputId": "55e3e9f5-9ef0-4132-9eb9-42cb7f7e1796"
   },
   "outputs": [
    {
     "data": {
      "text/html": [
       "<div>\n",
       "<style scoped>\n",
       "    .dataframe tbody tr th:only-of-type {\n",
       "        vertical-align: middle;\n",
       "    }\n",
       "\n",
       "    .dataframe tbody tr th {\n",
       "        vertical-align: top;\n",
       "    }\n",
       "\n",
       "    .dataframe thead th {\n",
       "        text-align: right;\n",
       "    }\n",
       "</style>\n",
       "<table border=\"1\" class=\"dataframe\">\n",
       "  <thead>\n",
       "    <tr style=\"text-align: right;\">\n",
       "      <th></th>\n",
       "      <th>cwc_min</th>\n",
       "      <th>cwc_max</th>\n",
       "      <th>csc_min</th>\n",
       "      <th>csc_max</th>\n",
       "      <th>ctc_min</th>\n",
       "      <th>ctc_max</th>\n",
       "      <th>last_word_eq</th>\n",
       "      <th>first_word_eq</th>\n",
       "      <th>abs_len_diff</th>\n",
       "      <th>mean_len</th>\n",
       "      <th>token_set_ratio</th>\n",
       "      <th>token_sort_ratio</th>\n",
       "      <th>fuzz_ratio</th>\n",
       "      <th>fuzz_partial_ratio</th>\n",
       "      <th>longest_substr_ratio</th>\n",
       "      <th>word_Common</th>\n",
       "      <th>word_Total</th>\n",
       "      <th>word_share</th>\n",
       "    </tr>\n",
       "  </thead>\n",
       "  <tbody>\n",
       "    <tr>\n",
       "      <th>0</th>\n",
       "      <td>0.999950</td>\n",
       "      <td>0.499988</td>\n",
       "      <td>0.999950</td>\n",
       "      <td>0.499988</td>\n",
       "      <td>0.999950</td>\n",
       "      <td>0.399992</td>\n",
       "      <td>1.0</td>\n",
       "      <td>1.0</td>\n",
       "      <td>3.0</td>\n",
       "      <td>3.5</td>\n",
       "      <td>100</td>\n",
       "      <td>72</td>\n",
       "      <td>66</td>\n",
       "      <td>100</td>\n",
       "      <td>0.950000</td>\n",
       "      <td>2.0</td>\n",
       "      <td>6.0</td>\n",
       "      <td>1.0</td>\n",
       "    </tr>\n",
       "    <tr>\n",
       "      <th>1</th>\n",
       "      <td>0.999967</td>\n",
       "      <td>0.333330</td>\n",
       "      <td>0.999967</td>\n",
       "      <td>0.333330</td>\n",
       "      <td>0.999967</td>\n",
       "      <td>0.299997</td>\n",
       "      <td>0.0</td>\n",
       "      <td>0.0</td>\n",
       "      <td>7.0</td>\n",
       "      <td>6.5</td>\n",
       "      <td>100</td>\n",
       "      <td>46</td>\n",
       "      <td>39</td>\n",
       "      <td>100</td>\n",
       "      <td>0.928571</td>\n",
       "      <td>3.0</td>\n",
       "      <td>12.0</td>\n",
       "      <td>1.0</td>\n",
       "    </tr>\n",
       "    <tr>\n",
       "      <th>2</th>\n",
       "      <td>0.000000</td>\n",
       "      <td>0.000000</td>\n",
       "      <td>0.000000</td>\n",
       "      <td>0.000000</td>\n",
       "      <td>0.000000</td>\n",
       "      <td>0.000000</td>\n",
       "      <td>0.0</td>\n",
       "      <td>0.0</td>\n",
       "      <td>0.0</td>\n",
       "      <td>2.0</td>\n",
       "      <td>26</td>\n",
       "      <td>26</td>\n",
       "      <td>26</td>\n",
       "      <td>29</td>\n",
       "      <td>0.111111</td>\n",
       "      <td>0.0</td>\n",
       "      <td>5.0</td>\n",
       "      <td>0.0</td>\n",
       "    </tr>\n",
       "    <tr>\n",
       "      <th>3</th>\n",
       "      <td>0.999950</td>\n",
       "      <td>0.999950</td>\n",
       "      <td>0.999950</td>\n",
       "      <td>0.999950</td>\n",
       "      <td>0.999950</td>\n",
       "      <td>0.999950</td>\n",
       "      <td>1.0</td>\n",
       "      <td>1.0</td>\n",
       "      <td>0.0</td>\n",
       "      <td>2.0</td>\n",
       "      <td>100</td>\n",
       "      <td>100</td>\n",
       "      <td>100</td>\n",
       "      <td>100</td>\n",
       "      <td>0.941176</td>\n",
       "      <td>2.0</td>\n",
       "      <td>5.0</td>\n",
       "      <td>1.0</td>\n",
       "    </tr>\n",
       "    <tr>\n",
       "      <th>4</th>\n",
       "      <td>0.000000</td>\n",
       "      <td>0.000000</td>\n",
       "      <td>0.000000</td>\n",
       "      <td>0.000000</td>\n",
       "      <td>0.000000</td>\n",
       "      <td>0.000000</td>\n",
       "      <td>0.0</td>\n",
       "      <td>0.0</td>\n",
       "      <td>0.0</td>\n",
       "      <td>2.0</td>\n",
       "      <td>28</td>\n",
       "      <td>28</td>\n",
       "      <td>28</td>\n",
       "      <td>31</td>\n",
       "      <td>0.071429</td>\n",
       "      <td>0.0</td>\n",
       "      <td>5.0</td>\n",
       "      <td>0.0</td>\n",
       "    </tr>\n",
       "  </tbody>\n",
       "</table>\n",
       "</div>"
      ],
      "text/plain": [
       "    cwc_min   cwc_max   csc_min  ...  word_Common  word_Total  word_share\n",
       "0  0.999950  0.499988  0.999950  ...          2.0         6.0         1.0\n",
       "1  0.999967  0.333330  0.999967  ...          3.0        12.0         1.0\n",
       "2  0.000000  0.000000  0.000000  ...          0.0         5.0         0.0\n",
       "3  0.999950  0.999950  0.999950  ...          2.0         5.0         1.0\n",
       "4  0.000000  0.000000  0.000000  ...          0.0         5.0         0.0\n",
       "\n",
       "[5 rows x 18 columns]"
      ]
     },
     "execution_count": 19,
     "metadata": {
      "tags": []
     },
     "output_type": "execute_result"
    }
   ],
   "source": [
    "# data=data.sample(data.shape[0])\n",
    "data_f=pd.read_csv('calculated_features.csv')\n",
    "data_f.head()"
   ]
  },
  {
   "cell_type": "code",
   "execution_count": 20,
   "metadata": {
    "colab": {},
    "colab_type": "code",
    "collapsed": true,
    "id": "maklZrL4MK7u"
   },
   "outputs": [],
   "source": [
    "X_train=data.drop(['Y'], axis=1)\n",
    "Y_train=data['Y']"
   ]
  },
  {
   "cell_type": "code",
   "execution_count": 21,
   "metadata": {
    "colab": {},
    "colab_type": "code",
    "collapsed": true,
    "id": "8wxkUvU7MTZT"
   },
   "outputs": [],
   "source": [
    "all_strings = []\n",
    "for k in X_train.columns:\n",
    "    strings=('\\n'.join(X_train[k])).split('\\n')\n",
    "    all_strings.extend(strings)"
   ]
  },
  {
   "cell_type": "code",
   "execution_count": 22,
   "metadata": {
    "colab": {
     "base_uri": "https://localhost:8080/",
     "height": 105
    },
    "colab_type": "code",
    "id": "KWv1JTLzM10-",
    "outputId": "497e2d1d-549d-491f-d2a3-073027a7654f"
   },
   "outputs": [
    {
     "data": {
      "text/plain": [
       "['management services april #### services',\n",
       " 'june web media fee ### ### times ## percent commission',\n",
       " 'business package',\n",
       " 'business package',\n",
       " 'seo services']"
      ]
     },
     "execution_count": 22,
     "metadata": {
      "tags": []
     },
     "output_type": "execute_result"
    }
   ],
   "source": [
    "all_strings[0:5]"
   ]
  },
  {
   "cell_type": "code",
   "execution_count": 23,
   "metadata": {
    "colab": {},
    "colab_type": "code",
    "collapsed": true,
    "id": "ClVVdvw48YP1"
   },
   "outputs": [],
   "source": [
    "from sklearn.model_selection import train_test_split\n",
    "X_train, X_val, X_train_f, X_eval_f, Y_train, Y_val = train_test_split(X_train, data_f, Y_train, test_size=0.2, stratify=Y_train)"
   ]
  },
  {
   "cell_type": "code",
   "execution_count": 24,
   "metadata": {
    "colab": {
     "base_uri": "https://localhost:8080/",
     "height": 34
    },
    "colab_type": "code",
    "id": "sZxFzJzlB_iy",
    "outputId": "a8b6325f-978d-4c82-8a5c-049fa33edc89"
   },
   "outputs": [
    {
     "data": {
      "text/plain": [
       "((9671, 3), (9671, 18), (9671,), (2418, 3), (2418, 18), (2418,))"
      ]
     },
     "execution_count": 24,
     "metadata": {
      "tags": []
     },
     "output_type": "execute_result"
    }
   ],
   "source": [
    "X_train.shape, X_train_f.shape, Y_train.shape, X_val.shape, X_eval_f.shape, Y_val.shape"
   ]
  },
  {
   "cell_type": "code",
   "execution_count": 25,
   "metadata": {
    "colab": {},
    "colab_type": "code",
    "collapsed": true,
    "id": "oGI-QzXSLa2c"
   },
   "outputs": [],
   "source": [
    "t = Tokenizer()\n",
    "t.fit_on_texts(all_strings)"
   ]
  },
  {
   "cell_type": "code",
   "execution_count": 26,
   "metadata": {
    "colab": {},
    "colab_type": "code",
    "collapsed": true,
    "id": "zdpZaZ8QscL5"
   },
   "outputs": [],
   "source": [
    "import pickle\n",
    "with open('tokenizer.pickle', 'wb') as handle:\n",
    "    pickle.dump(t, handle, protocol=pickle.HIGHEST_PROTOCOL)"
   ]
  },
  {
   "cell_type": "code",
   "execution_count": 27,
   "metadata": {
    "colab": {},
    "colab_type": "code",
    "collapsed": true,
    "id": "UgbEc6PwM-_O"
   },
   "outputs": [],
   "source": [
    "lengths_x=(X_train['line_item_nd'].str.split().apply(len)).values\n",
    "lengths_y=(X_train['canonical_line_item_name_y'].str.split().apply(len)).values\n",
    "lengths_ven=(X_train['canonical_vendor_name'].str.split('_').apply(len)).values"
   ]
  },
  {
   "cell_type": "code",
   "execution_count": 28,
   "metadata": {
    "colab": {
     "base_uri": "https://localhost:8080/",
     "height": 264
    },
    "colab_type": "code",
    "id": "7qmiOalBN7I9",
    "outputId": "f91b56b9-76e2-48a1-8a56-a9043af699ab"
   },
   "outputs": [
    {
     "data": {
      "image/png": "[encoded data removed]",
      "text/plain": [
       "<Figure size 432x288 with 1 Axes>"
      ]
     },
     "metadata": {
      "needs_background": "light",
      "tags": []
     },
     "output_type": "display_data"
    }
   ],
   "source": [
    "sns.kdeplot(lengths_x, label=\"input\")\n",
    "sns.kdeplot(lengths_y, label=\"output\")\n",
    "# sns.kdeplot(lengths_ven, label=\"vendor\")\n",
    "plt.show()"
   ]
  },
  {
   "cell_type": "code",
   "execution_count": 29,
   "metadata": {
    "colab": {
     "base_uri": "https://localhost:8080/",
     "height": 425
    },
    "colab_type": "code",
    "id": "EgTThqH3NhzV",
    "outputId": "541a9418-ba37-40d4-8327-f19ecc7896b8"
   },
   "outputs": [
    {
     "name": "stdout",
     "output_type": "stream",
     "text": [
      "284 line_item_nd                  lenovo thinkpad x# carbon #th gen ##qd ultrabo...\n",
      "canonical_vendor_name                                              sti_products\n",
      "canonical_line_item_name_y    barracuda sentinel for office ### subscription...\n",
      "Name: 9938, dtype: object\n",
      "92 line_item_nd                  apple ipad ##gb retina display wifi bluetooth ...\n",
      "canonical_vendor_name                                           amazon_business\n",
      "canonical_line_item_name_y    tilting tv wall mount bracket low profile for ...\n",
      "Name: 1788, dtype: object\n",
      "0 line_item_nd                  olivia api api workload\n",
      "canonical_vendor_name              xiamen_zhizhi_tech\n",
      "canonical_line_item_name_y                 web carter\n",
      "Name: 11369, dtype: object\n",
      "0 0.0 1.0 1.0\n",
      "10 3.0 2.0 1.0\n",
      "20 4.0 3.0 2.0\n",
      "30 6.0 4.0 2.0\n",
      "40 7.0 6.0 2.0\n",
      "50 9.0 8.0 2.0\n",
      "60 11.0 10.0 2.0\n",
      "70 14.0 14.0 2.0\n",
      "80 19.0 20.0 2.0\n",
      "90 23.0 24.0 3.0\n",
      "100 47.0 30.0 3.0\n"
     ]
    }
   ],
   "source": [
    "print(np.argmax(lengths_x), X_train.iloc[np.argmax(lengths_x)])\n",
    "print(np.argmax(lengths_y), X_train.iloc[np.argmax(lengths_y)])\n",
    "print(np.argmax(lengths_ven), X_train.iloc[np.argmax(lengths_ven)])\n",
    "for i in range(0, 101, 10):\n",
    "    print(i, np.percentile(lengths_x, i), np.percentile(lengths_y, i), np.percentile(lengths_ven, i))"
   ]
  },
  {
   "cell_type": "code",
   "execution_count": 30,
   "metadata": {
    "colab": {
     "base_uri": "https://localhost:8080/",
     "height": 212
    },
    "colab_type": "code",
    "id": "4X6s82EBOmV_",
    "outputId": "1a232f3f-6b84-42b4-8770-7d36aabc398d"
   },
   "outputs": [
    {
     "name": "stdout",
     "output_type": "stream",
     "text": [
      "90 23.0 24.0 3.0\n",
      "91 23.0 24.0 3.0\n",
      "92 24.0 24.0 3.0\n",
      "93 24.0 25.0 3.0\n",
      "94 24.0 25.0 3.0\n",
      "95 25.0 25.0 3.0\n",
      "96 25.0 25.0 3.0\n",
      "97 26.0 26.0 3.0\n",
      "98 26.0 26.0 3.0\n",
      "99 28.0 28.0 3.0\n",
      "100 47.0 30.0 3.0\n"
     ]
    }
   ],
   "source": [
    "for i in range(90, 101, 1):\n",
    "    print(i, np.percentile(lengths_x, i), np.percentile(lengths_y, i), np.percentile(lengths_ven, i))"
   ]
  },
  {
   "cell_type": "code",
   "execution_count": 31,
   "metadata": {
    "colab": {
     "base_uri": "https://localhost:8080/",
     "height": 87
    },
    "colab_type": "code",
    "id": "ggpcGv3bOuCZ",
    "outputId": "e6c21d5b-eb80-4892-edb0-96ea1cbfea71"
   },
   "outputs": [
    {
     "name": "stdout",
     "output_type": "stream",
     "text": [
      "input dimes (9671, 25)\n",
      "link item (9671, 25)\n",
      "input dimes (9671, 25)\n",
      "link item (2418, 25)\n"
     ]
    }
   ],
   "source": [
    "name_description_train = t.texts_to_sequences(X_train['line_item_nd'], )\n",
    "name_description_train = pad_sequences(name_description_train, maxlen=25,padding='post')\n",
    "print(\"input dimes\",name_description_train.shape)\n",
    "output_train = t.texts_to_sequences(X_train['canonical_line_item_name_y'])\n",
    "output_train = pad_sequences(output_train, maxlen=25,padding='post')\n",
    "print(\"link item\",output_train.shape)\n",
    "#====================\n",
    "name_description_eval = t.texts_to_sequences(X_val['line_item_nd'])\n",
    "name_description_eval = pad_sequences(name_description_eval, maxlen=25,padding='post')\n",
    "print(\"input dimes\",name_description_train.shape)\n",
    "output_eval = t.texts_to_sequences(X_val['canonical_line_item_name_y'])\n",
    "output_eval = pad_sequences(output_eval, maxlen=25,padding='post')\n",
    "print(\"link item\",output_eval.shape)\n",
    "#====================\n"
   ]
  },
  {
   "cell_type": "code",
   "execution_count": 15,
   "metadata": {
    "colab": {},
    "colab_type": "code",
    "collapsed": true,
    "id": "bEljUylJQYje"
   },
   "outputs": [],
   "source": [
    "# !wget http://nlp.stanford.edu/data/glove.42B.300d.zip\n",
    "# !unzip glove.42B.300d.zip"
   ]
  },
  {
   "cell_type": "code",
   "execution_count": 16,
   "metadata": {
    "colab": {},
    "colab_type": "code",
    "collapsed": true,
    "id": "jGEQSW_z_EZK"
   },
   "outputs": [],
   "source": [
    "vocab = set(dict(t.word_index.items()).keys())"
   ]
  },
  {
   "cell_type": "code",
   "execution_count": 17,
   "metadata": {
    "colab": {},
    "colab_type": "code",
    "collapsed": true,
    "id": "KoC6iOXlBClU"
   },
   "outputs": [],
   "source": [
    "vocab_size = len(t.word_index) + 1"
   ]
  },
  {
   "cell_type": "code",
   "execution_count": 18,
   "metadata": {
    "colab": {
     "base_uri": "https://localhost:8080/",
     "height": 34
    },
    "colab_type": "code",
    "id": "RBQfT6bx-lej",
    "outputId": "0aa8ae8c-e428-4e69-9dce-ffedd97a9d7b"
   },
   "outputs": [
    {
     "name": "stdout",
     "output_type": "stream",
     "text": [
      "Found word vectors  1715 out of 1780\n"
     ]
    }
   ],
   "source": [
    "embeddings_index = {}\n",
    "with open('glove.42B.300d.txt', 'r') as f:\n",
    "    for line in f:\n",
    "        values = line.split()\n",
    "        word  = values[0]\n",
    "        coefs = np.asarray(values[1:], dtype='float32')\n",
    "        if word in vocab:\n",
    "            embeddings_index[word] = coefs\n",
    "\n",
    "print('Found word vectors ', len(embeddings_index), \"out of\", vocab_size)\n",
    "# create a weight matrix for words in training docs\n",
    "embedding_matrix = np.zeros((vocab_size, 300))\n",
    "for word, i in t.word_index.items():\n",
    "    embedding_vector = embeddings_index.get(word)\n",
    "    if embedding_vector is not None:\n",
    "        embedding_matrix[i] = embedding_vector"
   ]
  },
  {
   "cell_type": "code",
   "execution_count": 20,
   "metadata": {
    "colab": {
     "base_uri": "https://localhost:8080/",
     "height": 52
    },
    "colab_type": "code",
    "id": "MToPM5WfEjQV",
    "outputId": "aff9b565-3552-4f7e-d4a0-c0459daf6b71"
   },
   "outputs": [
    {
     "name": "stdout",
     "output_type": "stream",
     "text": [
      "link item (9671, 3)\n",
      "link item (2418, 3)\n"
     ]
    }
   ],
   "source": [
    "vendor_names_train = t.texts_to_sequences(X_train['canonical_vendor_name'])\n",
    "vendor_names_train = pad_sequences(vendor_names_train, maxlen=3,padding='post')\n",
    "print(\"link item\",vendor_names_train.shape)\n",
    "#================\n",
    "vendor_names_eval = t.texts_to_sequences(X_val['canonical_vendor_name'])\n",
    "vendor_names_eval = pad_sequences(vendor_names_eval, maxlen=3,padding='post')\n",
    "print(\"link item\",vendor_names_eval.shape)"
   ]
  },
  {
   "cell_type": "code",
   "execution_count": 32,
   "metadata": {
    "colab": {},
    "colab_type": "code",
    "collapsed": true,
    "id": "Uh9iOMGIQ8Vr"
   },
   "outputs": [],
   "source": [
    "from tensorflow.keras.layers import Input, LSTM, Embedding, Dot, Dense, Concatenate\n",
    "from tensorflow.keras.models import Model"
   ]
  },
  {
   "cell_type": "code",
   "execution_count": 22,
   "metadata": {
    "colab": {
     "base_uri": "https://localhost:8080/",
     "height": 34
    },
    "colab_type": "code",
    "id": "Os7EmODQmjt-",
    "outputId": "4347bdcd-bea5-4ac5-eae4-164606f8b70a"
   },
   "outputs": [
    {
     "data": {
      "text/plain": [
       "True"
      ]
     },
     "execution_count": 22,
     "metadata": {
      "tags": []
     },
     "output_type": "execute_result"
    }
   ],
   "source": [
    "tf.unique([1, 3, 1, 4])[0].shape==3"
   ]
  },
  {
   "cell_type": "code",
   "execution_count": 35,
   "metadata": {
    "colab": {},
    "colab_type": "code",
    "collapsed": true,
    "id": "acFAsKukf_vb"
   },
   "outputs": [],
   "source": [
    "from sklearn.metrics import roc_auc_score, roc_curve, auc\n",
    "def auroc(y_true, y_pred):\n",
    "    y_true= tf.reshape(y_true, shape=(-1,))\n",
    "    if tf.unique(y_true)[0].shape[0]==1:\n",
    "        print(tf.unique(y_true)[0].shape, \"hello\")\n",
    "        return 0.5\n",
    "    else:\n",
    "        return tf.py_function(roc_auc_score, (y_true, y_pred), tf.double)"
   ]
  },
  {
   "cell_type": "markdown",
   "metadata": {},
   "source": [
    "### Inspired by Siamese neural network"
   ]
  },
  {
   "cell_type": "code",
   "execution_count": 24,
   "metadata": {
    "colab": {
     "base_uri": "https://localhost:8080/",
     "height": 550
    },
    "colab_type": "code",
    "id": "PQfAKHFURPpn",
    "outputId": "8ae7021d-681e-4fc6-a402-199d9b1707ea"
   },
   "outputs": [
    {
     "name": "stdout",
     "output_type": "stream",
     "text": [
      "Model: \"model\"\n",
      "__________________________________________________________________________________________________\n",
      "Layer (type)                    Output Shape         Param #     Connected to                     \n",
      "==================================================================================================\n",
      "input_1 (InputLayer)            [(None, 25)]         0                                            \n",
      "__________________________________________________________________________________________________\n",
      "input_2 (InputLayer)            [(None, 25)]         0                                            \n",
      "__________________________________________________________________________________________________\n",
      "embedding (Embedding)           (None, 25, 300)      534000      input_1[0][0]                    \n",
      "__________________________________________________________________________________________________\n",
      "embedding_1 (Embedding)         (None, 25, 300)      534000      input_2[0][0]                    \n",
      "__________________________________________________________________________________________________\n",
      "lstm (LSTM)                     (None, 100)          160400      embedding[0][0]                  \n",
      "__________________________________________________________________________________________________\n",
      "lstm_1 (LSTM)                   (None, 100)          160400      embedding_1[0][0]                \n",
      "__________________________________________________________________________________________________\n",
      "dot (Dot)                       (None, 1)            0           lstm[0][0]                       \n",
      "                                                                 lstm_1[0][0]                     \n",
      "__________________________________________________________________________________________________\n",
      "input_3 (InputLayer)            [(None, 18)]         0                                            \n",
      "__________________________________________________________________________________________________\n",
      "concatenate (Concatenate)       (None, 19)           0           dot[0][0]                        \n",
      "                                                                 input_3[0][0]                    \n",
      "__________________________________________________________________________________________________\n",
      "dense (Dense)                   (None, 1)            20          concatenate[0][0]                \n",
      "==================================================================================================\n",
      "Total params: 1,388,820\n",
      "Trainable params: 320,820\n",
      "Non-trainable params: 1,068,000\n",
      "__________________________________________________________________________________________________\n"
     ]
    }
   ],
   "source": [
    "input1= Input(shape=(25,))\n",
    "emb1 = Embedding(vocab_size, 300, weights=[embedding_matrix], trainable=False)(input1)\n",
    "lstm_out1 = LSTM(100)(emb1)\n",
    "\n",
    "input2= Input(shape=(25,))\n",
    "emb2 = Embedding(vocab_size, 300, weights=[embedding_matrix], trainable=False)(input2)\n",
    "lstm_out2 = LSTM(100)(emb2)\n",
    "\n",
    "similarity = Dot(axes=(1))([lstm_out1, lstm_out2])\n",
    "\n",
    "input3 = Input(shape=(18,))\n",
    "\n",
    "concat = Concatenate(axis=-1)([similarity, input3])\n",
    "\n",
    "is_link = Dense(1, activation='sigmoid')(concat)\n",
    "\n",
    "\n",
    "model = Model(inputs=[input1, input2, input3], outputs=is_link)\n",
    "model.compile(optimizer='adam', loss='binary_crossentropy',metrics=['accuracy', auroc])\n",
    "model.summary()"
   ]
  },
  {
   "cell_type": "code",
   "execution_count": 25,
   "metadata": {
    "colab": {
     "base_uri": "https://localhost:8080/",
     "height": 765
    },
    "colab_type": "code",
    "id": "PdEHGbn4gY2A",
    "outputId": "a6209fd8-a9d4-4dd8-bdef-fdf99939b60a"
   },
   "outputs": [
    {
     "name": "stdout",
     "output_type": "stream",
     "text": [
      "Epoch 1/20\n",
      "10/10 [==============================] - 10s 995ms/step - loss: 2.0024 - accuracy: 0.9341 - auroc: 0.2160 - val_loss: 2.0745 - val_accuracy: 0.9260 - val_auroc: 0.1692\n",
      "Epoch 2/20\n",
      "10/10 [==============================] - 9s 914ms/step - loss: 1.8914 - accuracy: 0.9276 - auroc: 0.2279 - val_loss: 1.8879 - val_accuracy: 0.9144 - val_auroc: 0.1562\n",
      "Epoch 3/20\n",
      "10/10 [==============================] - 9s 911ms/step - loss: 1.6692 - accuracy: 0.9190 - auroc: 0.2307 - val_loss: 1.6924 - val_accuracy: 0.8954 - val_auroc: 0.2089\n",
      "Epoch 4/20\n",
      "10/10 [==============================] - 9s 920ms/step - loss: 1.5513 - accuracy: 0.9056 - auroc: 0.2791 - val_loss: 1.5889 - val_accuracy: 0.9127 - val_auroc: 0.2436\n",
      "Epoch 5/20\n",
      "10/10 [==============================] - 9s 920ms/step - loss: 1.4554 - accuracy: 0.9161 - auroc: 0.2816 - val_loss: 1.5114 - val_accuracy: 0.9086 - val_auroc: 0.2675\n",
      "Epoch 6/20\n",
      "10/10 [==============================] - 9s 922ms/step - loss: 1.3662 - accuracy: 0.9198 - auroc: 0.3096 - val_loss: 1.4236 - val_accuracy: 0.9103 - val_auroc: 0.2891\n",
      "Epoch 7/20\n",
      "10/10 [==============================] - 9s 926ms/step - loss: 1.2973 - accuracy: 0.9155 - auroc: 0.3159 - val_loss: 1.3353 - val_accuracy: 0.9111 - val_auroc: 0.3097\n",
      "Epoch 8/20\n",
      "10/10 [==============================] - 9s 925ms/step - loss: 1.2208 - accuracy: 0.9219 - auroc: 0.3358 - val_loss: 1.2412 - val_accuracy: 0.9132 - val_auroc: 0.3244\n",
      "Epoch 9/20\n",
      "10/10 [==============================] - 9s 921ms/step - loss: 1.1478 - accuracy: 0.9181 - auroc: 0.3495 - val_loss: 1.1762 - val_accuracy: 0.9165 - val_auroc: 0.3421\n",
      "Epoch 10/20\n",
      "10/10 [==============================] - 9s 922ms/step - loss: 1.1052 - accuracy: 0.9216 - auroc: 0.3628 - val_loss: 1.1230 - val_accuracy: 0.9214 - val_auroc: 0.3545\n",
      "Epoch 11/20\n",
      "10/10 [==============================] - 9s 927ms/step - loss: 1.0335 - accuracy: 0.9248 - auroc: 0.3740 - val_loss: 1.0440 - val_accuracy: 0.9194 - val_auroc: 0.3714\n",
      "Epoch 12/20\n",
      "10/10 [==============================] - 9s 919ms/step - loss: 0.9605 - accuracy: 0.9233 - auroc: 0.3992 - val_loss: 0.9750 - val_accuracy: 0.9210 - val_auroc: 0.3884\n",
      "Epoch 13/20\n",
      "10/10 [==============================] - 9s 919ms/step - loss: 0.9061 - accuracy: 0.9233 - auroc: 0.4069 - val_loss: 0.9296 - val_accuracy: 0.9231 - val_auroc: 0.4070\n",
      "Epoch 14/20\n",
      "10/10 [==============================] - 9s 921ms/step - loss: 0.8480 - accuracy: 0.9267 - auroc: 0.4351 - val_loss: 0.8713 - val_accuracy: 0.9235 - val_auroc: 0.4257\n",
      "Epoch 15/20\n",
      "10/10 [==============================] - 9s 920ms/step - loss: 0.7961 - accuracy: 0.9290 - auroc: 0.4306 - val_loss: 0.8401 - val_accuracy: 0.9181 - val_auroc: 0.4304\n",
      "Epoch 16/20\n",
      "10/10 [==============================] - 9s 922ms/step - loss: 0.7669 - accuracy: 0.9246 - auroc: 0.4626 - val_loss: 0.7410 - val_accuracy: 0.9194 - val_auroc: 0.4895\n",
      "Epoch 17/20\n",
      "10/10 [==============================] - 9s 929ms/step - loss: 0.7066 - accuracy: 0.9228 - auroc: 0.4885 - val_loss: 0.7296 - val_accuracy: 0.9152 - val_auroc: 0.4764\n",
      "Epoch 18/20\n",
      "10/10 [==============================] - 9s 929ms/step - loss: 0.6551 - accuracy: 0.9249 - auroc: 0.5001 - val_loss: 0.6658 - val_accuracy: 0.9260 - val_auroc: 0.5205\n",
      "Epoch 19/20\n",
      "10/10 [==============================] - 9s 931ms/step - loss: 0.6066 - accuracy: 0.9320 - auroc: 0.5369 - val_loss: 0.6041 - val_accuracy: 0.9305 - val_auroc: 0.5611\n",
      "Epoch 20/20\n",
      "10/10 [==============================] - 9s 924ms/step - loss: 0.5624 - accuracy: 0.9315 - auroc: 0.5788 - val_loss: 0.5615 - val_accuracy: 0.9322 - val_auroc: 0.5937\n"
     ]
    },
    {
     "data": {
      "text/plain": [
       "<tensorflow.python.keras.callbacks.History at 0x7fc7798b9be0>"
      ]
     },
     "execution_count": 25,
     "metadata": {
      "tags": []
     },
     "output_type": "execute_result"
    }
   ],
   "source": [
    "model.fit([name_description_train,output_train, X_train_f],Y_train, epochs=20, batch_size=1024, validation_data=([name_description_eval, output_eval, X_eval_f],Y_val))"
   ]
  },
  {
   "cell_type": "code",
   "execution_count": 26,
   "metadata": {
    "colab": {
     "base_uri": "https://localhost:8080/",
     "height": 765
    },
    "colab_type": "code",
    "id": "aXwsbQ1-K1LW",
    "outputId": "208e7f4f-8567-4aa2-9dce-50c3c4578659"
   },
   "outputs": [
    {
     "name": "stdout",
     "output_type": "stream",
     "text": [
      "Epoch 1/20\n",
      "10/10 [==============================] - 9s 928ms/step - loss: 0.5167 - accuracy: 0.9344 - auroc: 0.6045 - val_loss: 0.5151 - val_accuracy: 0.9342 - val_auroc: 0.6275\n",
      "Epoch 2/20\n",
      "10/10 [==============================] - 9s 920ms/step - loss: 0.4754 - accuracy: 0.9342 - auroc: 0.6459 - val_loss: 0.4692 - val_accuracy: 0.9347 - val_auroc: 0.6703\n",
      "Epoch 3/20\n",
      "10/10 [==============================] - 9s 918ms/step - loss: 0.4301 - accuracy: 0.9355 - auroc: 0.6804 - val_loss: 0.4233 - val_accuracy: 0.9351 - val_auroc: 0.7119\n",
      "Epoch 4/20\n",
      "10/10 [==============================] - 9s 924ms/step - loss: 0.3893 - accuracy: 0.9384 - auroc: 0.7162 - val_loss: 0.3894 - val_accuracy: 0.9376 - val_auroc: 0.7447\n",
      "Epoch 5/20\n",
      "10/10 [==============================] - 9s 921ms/step - loss: 0.3545 - accuracy: 0.9430 - auroc: 0.7405 - val_loss: 0.3522 - val_accuracy: 0.9479 - val_auroc: 0.7657\n",
      "Epoch 6/20\n",
      "10/10 [==============================] - 9s 926ms/step - loss: 0.3205 - accuracy: 0.9461 - auroc: 0.7790 - val_loss: 0.3172 - val_accuracy: 0.9467 - val_auroc: 0.8031\n",
      "Epoch 7/20\n",
      "10/10 [==============================] - 9s 911ms/step - loss: 0.2953 - accuracy: 0.9481 - auroc: 0.8021 - val_loss: 0.2900 - val_accuracy: 0.9487 - val_auroc: 0.8283\n",
      "Epoch 8/20\n",
      "10/10 [==============================] - 9s 915ms/step - loss: 0.2704 - accuracy: 0.9530 - auroc: 0.8209 - val_loss: 0.2762 - val_accuracy: 0.9425 - val_auroc: 0.8548\n",
      "Epoch 9/20\n",
      "10/10 [==============================] - 10s 955ms/step - loss: 0.2445 - accuracy: 0.9539 - auroc: 0.8542 - val_loss: 0.2457 - val_accuracy: 0.9524 - val_auroc: 0.8716\n",
      "Epoch 10/20\n",
      "10/10 [==============================] - 9s 917ms/step - loss: 0.2226 - accuracy: 0.9552 - auroc: 0.8684 - val_loss: 0.2323 - val_accuracy: 0.9537 - val_auroc: 0.8837\n",
      "Epoch 11/20\n",
      "10/10 [==============================] - 9s 925ms/step - loss: 0.2032 - accuracy: 0.9573 - auroc: 0.8813 - val_loss: 0.2143 - val_accuracy: 0.9578 - val_auroc: 0.8979\n",
      "Epoch 12/20\n",
      "10/10 [==============================] - 9s 919ms/step - loss: 0.1884 - accuracy: 0.9614 - auroc: 0.8934 - val_loss: 0.2075 - val_accuracy: 0.9516 - val_auroc: 0.9055\n",
      "Epoch 13/20\n",
      "10/10 [==============================] - 9s 916ms/step - loss: 0.1778 - accuracy: 0.9628 - auroc: 0.9027 - val_loss: 0.1957 - val_accuracy: 0.9653 - val_auroc: 0.9179\n",
      "Epoch 14/20\n",
      "10/10 [==============================] - 9s 927ms/step - loss: 0.1720 - accuracy: 0.9675 - auroc: 0.9127 - val_loss: 0.1884 - val_accuracy: 0.9578 - val_auroc: 0.9235\n",
      "Epoch 15/20\n",
      "10/10 [==============================] - 9s 930ms/step - loss: 0.1617 - accuracy: 0.9696 - auroc: 0.9199 - val_loss: 0.1778 - val_accuracy: 0.9628 - val_auroc: 0.9249\n",
      "Epoch 16/20\n",
      "10/10 [==============================] - 9s 928ms/step - loss: 0.1585 - accuracy: 0.9689 - auroc: 0.9213 - val_loss: 0.1702 - val_accuracy: 0.9661 - val_auroc: 0.9316\n",
      "Epoch 17/20\n",
      "10/10 [==============================] - 9s 933ms/step - loss: 0.1491 - accuracy: 0.9709 - auroc: 0.9274 - val_loss: 0.1648 - val_accuracy: 0.9665 - val_auroc: 0.9361\n",
      "Epoch 18/20\n",
      "10/10 [==============================] - 9s 927ms/step - loss: 0.1439 - accuracy: 0.9739 - auroc: 0.9336 - val_loss: 0.1619 - val_accuracy: 0.9669 - val_auroc: 0.9373\n",
      "Epoch 19/20\n",
      "10/10 [==============================] - 9s 926ms/step - loss: 0.1367 - accuracy: 0.9736 - auroc: 0.9355 - val_loss: 0.1571 - val_accuracy: 0.9677 - val_auroc: 0.9398\n",
      "Epoch 20/20\n",
      "10/10 [==============================] - 9s 922ms/step - loss: 0.1319 - accuracy: 0.9749 - auroc: 0.9389 - val_loss: 0.1533 - val_accuracy: 0.9677 - val_auroc: 0.9430\n"
     ]
    },
    {
     "data": {
      "text/plain": [
       "<tensorflow.python.keras.callbacks.History at 0x7fc774972a58>"
      ]
     },
     "execution_count": 26,
     "metadata": {
      "tags": []
     },
     "output_type": "execute_result"
    }
   ],
   "source": [
    "model.fit([name_description_train,output_train, X_train_f],Y_train, epochs=20, batch_size=1024, validation_data=([name_description_eval, output_eval, X_eval_f],Y_val))"
   ]
  },
  {
   "cell_type": "code",
   "execution_count": 27,
   "metadata": {
    "colab": {
     "base_uri": "https://localhost:8080/",
     "height": 1000
    },
    "colab_type": "code",
    "id": "KIOhO2WBMX45",
    "outputId": "f16870a8-7bdd-4703-ea6c-dbbdcb09b73d"
   },
   "outputs": [
    {
     "name": "stdout",
     "output_type": "stream",
     "text": [
      "Epoch 1/20\n",
      "10/10 [==============================] - ETA: 0s - loss: 0.1272 - accuracy: 0.9751 - auroc: 0.9402\n",
      "Epoch 00001: val_auroc improved from inf to 0.94500, saving model to weights01.h5\n",
      "10/10 [==============================] - 9s 933ms/step - loss: 0.1272 - accuracy: 0.9751 - auroc: 0.9402 - val_loss: 0.1564 - val_accuracy: 0.9669 - val_auroc: 0.9450\n",
      "Epoch 2/20\n",
      "10/10 [==============================] - ETA: 0s - loss: 0.1253 - accuracy: 0.9740 - auroc: 0.9452\n",
      "Epoch 00002: val_auroc did not improve from 0.94500\n",
      "10/10 [==============================] - 9s 922ms/step - loss: 0.1253 - accuracy: 0.9740 - auroc: 0.9452 - val_loss: 0.1530 - val_accuracy: 0.9698 - val_auroc: 0.9481\n",
      "Epoch 3/20\n",
      "10/10 [==============================] - ETA: 0s - loss: 0.1247 - accuracy: 0.9760 - auroc: 0.9481\n",
      "Epoch 00003: val_auroc did not improve from 0.94500\n",
      "10/10 [==============================] - 9s 923ms/step - loss: 0.1247 - accuracy: 0.9760 - auroc: 0.9481 - val_loss: 0.1470 - val_accuracy: 0.9661 - val_auroc: 0.9518\n",
      "Epoch 4/20\n",
      "10/10 [==============================] - ETA: 0s - loss: 0.1197 - accuracy: 0.9779 - auroc: 0.9491\n",
      "Epoch 00004: val_auroc did not improve from 0.94500\n",
      "10/10 [==============================] - 9s 919ms/step - loss: 0.1197 - accuracy: 0.9779 - auroc: 0.9491 - val_loss: 0.1554 - val_accuracy: 0.9611 - val_auroc: 0.9555\n",
      "Epoch 5/20\n",
      "10/10 [==============================] - ETA: 0s - loss: 0.1209 - accuracy: 0.9741 - auroc: 0.9545\n",
      "Epoch 00005: val_auroc did not improve from 0.94500\n",
      "10/10 [==============================] - 9s 925ms/step - loss: 0.1209 - accuracy: 0.9741 - auroc: 0.9545 - val_loss: 0.1435 - val_accuracy: 0.9657 - val_auroc: 0.9584\n",
      "Epoch 6/20\n",
      "10/10 [==============================] - ETA: 0s - loss: 0.1100 - accuracy: 0.9773 - auroc: 0.9533\n",
      "Epoch 00006: val_auroc did not improve from 0.94500\n",
      "10/10 [==============================] - 9s 921ms/step - loss: 0.1100 - accuracy: 0.9773 - auroc: 0.9533 - val_loss: 0.1391 - val_accuracy: 0.9682 - val_auroc: 0.9565\n",
      "Epoch 7/20\n",
      "10/10 [==============================] - ETA: 0s - loss: 0.1060 - accuracy: 0.9773 - auroc: 0.9580\n",
      "Epoch 00007: val_auroc did not improve from 0.94500\n",
      "10/10 [==============================] - 9s 922ms/step - loss: 0.1060 - accuracy: 0.9773 - auroc: 0.9580 - val_loss: 0.1353 - val_accuracy: 0.9715 - val_auroc: 0.9598\n",
      "Epoch 8/20\n",
      "10/10 [==============================] - ETA: 0s - loss: 0.1013 - accuracy: 0.9780 - auroc: 0.9597\n",
      "Epoch 00008: val_auroc did not improve from 0.94500\n",
      "10/10 [==============================] - 9s 933ms/step - loss: 0.1013 - accuracy: 0.9780 - auroc: 0.9597 - val_loss: 0.1276 - val_accuracy: 0.9711 - val_auroc: 0.9630\n",
      "Epoch 9/20\n",
      "10/10 [==============================] - ETA: 0s - loss: 0.0977 - accuracy: 0.9787 - auroc: 0.9603\n",
      "Epoch 00009: val_auroc did not improve from 0.94500\n",
      "10/10 [==============================] - 9s 922ms/step - loss: 0.0977 - accuracy: 0.9787 - auroc: 0.9603 - val_loss: 0.1294 - val_accuracy: 0.9682 - val_auroc: 0.9635\n",
      "Epoch 10/20\n",
      "10/10 [==============================] - ETA: 0s - loss: 0.0958 - accuracy: 0.9797 - auroc: 0.9617\n",
      "Epoch 00010: val_auroc did not improve from 0.94500\n",
      "10/10 [==============================] - 9s 919ms/step - loss: 0.0958 - accuracy: 0.9797 - auroc: 0.9617 - val_loss: 0.1235 - val_accuracy: 0.9711 - val_auroc: 0.9647\n",
      "Epoch 11/20\n",
      "10/10 [==============================] - ETA: 0s - loss: 0.0936 - accuracy: 0.9797 - auroc: 0.9644\n",
      "Epoch 00011: val_auroc did not improve from 0.94500\n",
      "10/10 [==============================] - 9s 921ms/step - loss: 0.0936 - accuracy: 0.9797 - auroc: 0.9644 - val_loss: 0.1292 - val_accuracy: 0.9698 - val_auroc: 0.9630\n",
      "Epoch 12/20\n",
      "10/10 [==============================] - ETA: 0s - loss: 0.0932 - accuracy: 0.9776 - auroc: 0.9660\n",
      "Epoch 00012: val_auroc did not improve from 0.94500\n",
      "10/10 [==============================] - 9s 929ms/step - loss: 0.0932 - accuracy: 0.9776 - auroc: 0.9660 - val_loss: 0.1247 - val_accuracy: 0.9682 - val_auroc: 0.9664\n",
      "Epoch 13/20\n",
      "10/10 [==============================] - ETA: 0s - loss: 0.0943 - accuracy: 0.9784 - auroc: 0.9688\n",
      "Epoch 00013: val_auroc did not improve from 0.94500\n",
      "10/10 [==============================] - 9s 909ms/step - loss: 0.0943 - accuracy: 0.9784 - auroc: 0.9688 - val_loss: 0.1223 - val_accuracy: 0.9715 - val_auroc: 0.9669\n",
      "Epoch 14/20\n",
      "10/10 [==============================] - ETA: 0s - loss: 0.0918 - accuracy: 0.9782 - auroc: 0.9684\n",
      "Epoch 00014: val_auroc did not improve from 0.94500\n",
      "10/10 [==============================] - 9s 923ms/step - loss: 0.0918 - accuracy: 0.9782 - auroc: 0.9684 - val_loss: 0.1184 - val_accuracy: 0.9727 - val_auroc: 0.9688\n",
      "Epoch 15/20\n",
      "10/10 [==============================] - ETA: 0s - loss: 0.0880 - accuracy: 0.9808 - auroc: 0.9648\n",
      "Epoch 00015: val_auroc did not improve from 0.94500\n",
      "10/10 [==============================] - 9s 928ms/step - loss: 0.0880 - accuracy: 0.9808 - auroc: 0.9648 - val_loss: 0.1149 - val_accuracy: 0.9735 - val_auroc: 0.9698\n",
      "Epoch 16/20\n",
      "10/10 [==============================] - ETA: 0s - loss: 0.0848 - accuracy: 0.9804 - auroc: 0.9686\n",
      "Epoch 00016: val_auroc did not improve from 0.94500\n",
      "10/10 [==============================] - 9s 925ms/step - loss: 0.0848 - accuracy: 0.9804 - auroc: 0.9686 - val_loss: 0.1178 - val_accuracy: 0.9698 - val_auroc: 0.9670\n",
      "Epoch 17/20\n",
      "10/10 [==============================] - ETA: 0s - loss: 0.0850 - accuracy: 0.9805 - auroc: 0.9672\n",
      "Epoch 00017: val_auroc did not improve from 0.94500\n",
      "10/10 [==============================] - 9s 935ms/step - loss: 0.0850 - accuracy: 0.9805 - auroc: 0.9672 - val_loss: 0.1147 - val_accuracy: 0.9739 - val_auroc: 0.9690\n",
      "Epoch 18/20\n",
      "10/10 [==============================] - ETA: 0s - loss: 0.0824 - accuracy: 0.9813 - auroc: 0.9733\n",
      "Epoch 00018: val_auroc did not improve from 0.94500\n",
      "10/10 [==============================] - 9s 930ms/step - loss: 0.0824 - accuracy: 0.9813 - auroc: 0.9733 - val_loss: 0.1205 - val_accuracy: 0.9768 - val_auroc: 0.9708\n",
      "Epoch 19/20\n",
      "10/10 [==============================] - ETA: 0s - loss: 0.0900 - accuracy: 0.9795 - auroc: 0.9720\n",
      "Epoch 00019: val_auroc did not improve from 0.94500\n",
      "10/10 [==============================] - 9s 925ms/step - loss: 0.0900 - accuracy: 0.9795 - auroc: 0.9720 - val_loss: 0.1218 - val_accuracy: 0.9756 - val_auroc: 0.9702\n",
      "Epoch 20/20\n",
      "10/10 [==============================] - ETA: 0s - loss: 0.0847 - accuracy: 0.9803 - auroc: 0.9741\n",
      "Epoch 00020: val_auroc did not improve from 0.94500\n",
      "10/10 [==============================] - 9s 936ms/step - loss: 0.0847 - accuracy: 0.9803 - auroc: 0.9741 - val_loss: 0.1100 - val_accuracy: 0.9739 - val_auroc: 0.9713\n"
     ]
    },
    {
     "data": {
      "text/plain": [
       "<tensorflow.python.keras.callbacks.History at 0x7fc7748e4fd0>"
      ]
     },
     "execution_count": 27,
     "metadata": {
      "tags": []
     },
     "output_type": "execute_result"
    }
   ],
   "source": [
    "from tensorflow.keras.callbacks import ModelCheckpoint\n",
    "checkpoint = ModelCheckpoint(\"weights{epoch:02d}.h5\", monitor='val_auroc', verbose=1, save_best_only=True)\n",
    "\n",
    "model.fit([name_description_train,output_train, X_train_f],Y_train, epochs=20, batch_size=1024, validation_data=([name_description_eval, output_eval, X_eval_f],Y_val),\\\n",
    "            callbacks=[checkpoint]          \n",
    "          )"
   ]
  },
  {
   "cell_type": "code",
   "execution_count": 2,
   "metadata": {
    "collapsed": true
   },
   "outputs": [],
   "source": [
    "# the model is not overfitting and decent metric, here i have taken AUC as metric\n",
    "# went to AUC from f1 score, cause the f1 score concentrates more on positive class, if the business need insists we have to use F1 sore only"
   ]
  },
  {
   "cell_type": "code",
   "execution_count": 41,
   "metadata": {
    "colab": {
     "base_uri": "https://localhost:8080/",
     "height": 294
    },
    "colab_type": "code",
    "id": "gxZJo4N0G7vB",
    "outputId": "9d9ebad1-978c-44e5-84ca-738ebb966e20"
   },
   "outputs": [
    {
     "data": {
      "image/png": "[encoded data removed]",
      "text/plain": [
       "<Figure size 432x288 with 1 Axes>"
      ]
     },
     "metadata": {
      "needs_background": "light",
      "tags": []
     },
     "output_type": "display_data"
    }
   ],
   "source": [
    "loaded_model=tf.keras.models.load_model('auc_0_9713.h5', custom_objects={'auroc': auroc})\n",
    "y_train_pred = loaded_model.predict([name_description_train,output_train, X_train_f])\n",
    "y_eval_pred = loaded_model.predict([name_description_eval, output_eval, X_eval_f])\n",
    "\n",
    "tfpr, ttpr, tthreshold = roc_curve(Y_train, y_train_pred)\n",
    "troc_auc = auc(tfpr, ttpr)\n",
    "efpr, etpr, ethreshold = roc_curve(Y_val, y_eval_pred)\n",
    "eroc_auc = auc(efpr, etpr)\n",
    "\n",
    "import matplotlib.pyplot as plt\n",
    "plt.title('Receiver Operating Characteristic')\n",
    "plt.plot(tfpr, ttpr, 'b', label = 'AUC_train = %0.2f' % troc_auc)\n",
    "plt.plot(efpr, etpr, 'b', label = 'AUC_val = %0.2f' % eroc_auc)\n",
    "plt.legend(loc = 'lower right')\n",
    "plt.plot([0, 1], [0, 1],'r--')\n",
    "plt.xlim([0, 1])\n",
    "plt.ylim([0, 1])\n",
    "plt.ylabel('True Positive Rate')\n",
    "plt.xlabel('False Positive Rate')\n",
    "plt.show()"
   ]
  },
  {
   "cell_type": "code",
   "execution_count": 51,
   "metadata": {
    "colab": {},
    "colab_type": "code",
    "collapsed": true,
    "id": "cw-QSn_nJXq2"
   },
   "outputs": [],
   "source": [
    "# we are writing our own function for predict, with defined thresould\n",
    "# we will pick a threshold that will give the least fpr\n",
    "def find_best_threshold(threshould, fpr, tpr):\n",
    "    t = threshould[np.argmax(tpr*(1-fpr))]\n",
    "    # (tpr*(1-fpr)) will be maximum if your fpr is very low and tpr is very high\n",
    "    print(\"the maximum value of tpr*(1-fpr)\", max(tpr*(1-fpr)), \"for threshold\", np.round(t,3))\n",
    "    return t\n",
    "\n",
    "def predict_with_best_t(proba, threshould):\n",
    "    predictions = []\n",
    "    for i in proba:\n",
    "        if i>=0.014:\n",
    "            predictions.append(1)\n",
    "        else:\n",
    "            predictions.append(0)\n",
    "    return predictions"
   ]
  },
  {
   "cell_type": "code",
   "execution_count": 52,
   "metadata": {
    "colab": {
     "base_uri": "https://localhost:8080/",
     "height": 158
    },
    "colab_type": "code",
    "id": "UZJJeLupJZP7",
    "outputId": "94059360-eb72-40d4-c970-cf3701f3fcc8"
   },
   "outputs": [
    {
     "name": "stdout",
     "output_type": "stream",
     "text": [
      "====================================================================================================\n",
      "the maximum value of tpr*(1-fpr) 0.874595774007327 for threshold 0.014\n",
      "Train confusion matrix\n",
      "[[8905  380]\n",
      " [  36  350]]\n",
      "Test confusion matrix\n",
      "[[2226   95]\n",
      " [  13   84]]\n"
     ]
    }
   ],
   "source": [
    "print(\"=\"*100)\n",
    "from sklearn.metrics import confusion_matrix\n",
    "best_t = find_best_threshold(tthreshold, tfpr, ttpr)\n",
    "print(\"Train confusion matrix\")\n",
    "print(confusion_matrix(Y_train, predict_with_best_t(y_train_pred, best_t)))\n",
    "print(\"Test confusion matrix\")\n",
    "print(confusion_matrix(Y_val, predict_with_best_t(y_eval_pred, best_t)))"
   ]
  }
 ],
 "metadata": {
  "colab": {
   "collapsed_sections": [],
   "name": "linking",
   "provenance": [],
   "toc_visible": true
  },
  "kernelspec": {
   "display_name": "Python 3",
   "language": "python",
   "name": "python3"
  },
  "language_info": {
   "codemirror_mode": {
    "name": "ipython",
    "version": 3
   },
   "file_extension": ".py",
   "mimetype": "text/x-python",
   "name": "python",
   "nbconvert_exporter": "python",
   "pygments_lexer": "ipython3",
   "version": "3.6.2"
  }
 },
 "nbformat": 4,
 "nbformat_minor": 1
}
