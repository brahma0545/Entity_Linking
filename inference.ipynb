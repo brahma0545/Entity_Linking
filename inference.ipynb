{
 "cells": [
  {
   "cell_type": "markdown",
   "metadata": {},
   "source": [
    "### Most of the code is self explanatory"
   ]
  },
  {
   "cell_type": "code",
   "execution_count": 1,
   "metadata": {
    "colab": {
     "base_uri": "https://localhost:8080/",
     "height": 72
    },
    "colab_type": "code",
    "id": "0fE_w_SVrKXS",
    "outputId": "01398b85-05e1-438a-e791-0ad6d08e91a3"
   },
   "outputs": [
    {
     "name": "stderr",
     "output_type": "stream",
     "text": [
      "/usr/local/lib/python3.6/dist-packages/statsmodels/tools/_testing.py:19: FutureWarning: pandas.util.testing is deprecated. Use the functions in the public API at pandas.testing instead.\n",
      "  import pandas.util.testing as tm\n"
     ]
    }
   ],
   "source": [
    "from tensorflow.keras.layers import Input, LSTM, Embedding, Dot, Dense, Concatenate\n",
    "from tensorflow.keras.models import Model\n",
    "import tensorflow as tf\n",
    "import pandas as pd\n",
    "from tensorflow.keras.preprocessing.text import Tokenizer\n",
    "from tensorflow.keras.preprocessing.sequence import pad_sequences\n",
    "import numpy as np\n",
    "import seaborn as sns\n",
    "import matplotlib.pyplot as plt\n",
    "import distance\n",
    "from fuzzywuzzy import fuzz\n",
    "import spacy\n",
    "nlp=spacy.load('en_core_web_lg')"
   ]
  },
  {
   "cell_type": "code",
   "execution_count": 2,
   "metadata": {
    "colab": {},
    "colab_type": "code",
    "collapsed": true,
    "id": "VjOz7MqLyEzV"
   },
   "outputs": [],
   "source": [
    "# !python -m spacy download en_core_web_lg"
   ]
  },
  {
   "cell_type": "code",
   "execution_count": 3,
   "metadata": {
    "colab": {},
    "colab_type": "code",
    "collapsed": true,
    "id": "M83biTFpvn-h"
   },
   "outputs": [],
   "source": [
    "# !pip install Distance\n",
    "# !pip install fuzzywuzzy\n",
    "# !pip install python-Levenshtein"
   ]
  },
  {
   "cell_type": "code",
   "execution_count": 4,
   "metadata": {
    "colab": {},
    "colab_type": "code",
    "collapsed": true,
    "id": "NrCq0CIYrfEo"
   },
   "outputs": [],
   "source": [
    "import pickle\n",
    "\n",
    "# loading\n",
    "with open('tokenizer.pickle', 'rb') as handle:\n",
    "    t = pickle.load(handle)"
   ]
  },
  {
   "cell_type": "code",
   "execution_count": 5,
   "metadata": {
    "colab": {},
    "colab_type": "code",
    "collapsed": true,
    "id": "M9yd7FBys3L2"
   },
   "outputs": [],
   "source": [
    "data_eval = pd.read_excel('entity_links.xlsx', sheet_name='eval')\n",
    "data_items = pd.read_excel('entity_links.xlsx', sheet_name='canonical_line_item_table')"
   ]
  },
  {
   "cell_type": "code",
   "execution_count": 6,
   "metadata": {
    "colab": {
     "base_uri": "https://localhost:8080/",
     "height": 197
    },
    "colab_type": "code",
    "id": "ke9hmMFhznhw",
    "outputId": "4e1b104c-2d4d-4008-e13e-4e025db94efa"
   },
   "outputs": [
    {
     "data": {
      "text/html": [
       "<div>\n",
       "<style scoped>\n",
       "    .dataframe tbody tr th:only-of-type {\n",
       "        vertical-align: middle;\n",
       "    }\n",
       "\n",
       "    .dataframe tbody tr th {\n",
       "        vertical-align: top;\n",
       "    }\n",
       "\n",
       "    .dataframe thead th {\n",
       "        text-align: right;\n",
       "    }\n",
       "</style>\n",
       "<table border=\"1\" class=\"dataframe\">\n",
       "  <thead>\n",
       "    <tr style=\"text-align: right;\">\n",
       "      <th></th>\n",
       "      <th>line_item_name</th>\n",
       "      <th>line_item_description</th>\n",
       "      <th>canonical_vendor_name</th>\n",
       "      <th>canonical_line_item_name</th>\n",
       "    </tr>\n",
       "  </thead>\n",
       "  <tbody>\n",
       "    <tr>\n",
       "      <th>0</th>\n",
       "      <td>Management Services</td>\n",
       "      <td>May 2019 Services</td>\n",
       "      <td>10 Minute Ventures</td>\n",
       "      <td>NaN</td>\n",
       "    </tr>\n",
       "    <tr>\n",
       "      <th>1</th>\n",
       "      <td>Acrobat Pro DC</td>\n",
       "      <td>NaN</td>\n",
       "      <td>Adobe</td>\n",
       "      <td>NaN</td>\n",
       "    </tr>\n",
       "    <tr>\n",
       "      <th>2</th>\n",
       "      <td>AIEX 96 Pieces Adhesive Poster Tacky Putty Sti...</td>\n",
       "      <td>NaN</td>\n",
       "      <td>Amazon Business</td>\n",
       "      <td>NaN</td>\n",
       "    </tr>\n",
       "    <tr>\n",
       "      <th>3</th>\n",
       "      <td>AmazonBasics AAA 1.5 Volt Performance Alkaline...</td>\n",
       "      <td>NaN</td>\n",
       "      <td>Amazon Business</td>\n",
       "      <td>NaN</td>\n",
       "    </tr>\n",
       "    <tr>\n",
       "      <th>4</th>\n",
       "      <td>AmazonBasics Mesh Trash Can Waste Basket</td>\n",
       "      <td>1</td>\n",
       "      <td>Amazon Business</td>\n",
       "      <td>NaN</td>\n",
       "    </tr>\n",
       "  </tbody>\n",
       "</table>\n",
       "</div>"
      ],
      "text/plain": [
       "                                      line_item_name  ... canonical_line_item_name\n",
       "0                                Management Services  ...                      NaN\n",
       "1                                     Acrobat Pro DC  ...                      NaN\n",
       "2  AIEX 96 Pieces Adhesive Poster Tacky Putty Sti...  ...                      NaN\n",
       "3  AmazonBasics AAA 1.5 Volt Performance Alkaline...  ...                      NaN\n",
       "4           AmazonBasics Mesh Trash Can Waste Basket  ...                      NaN\n",
       "\n",
       "[5 rows x 4 columns]"
      ]
     },
     "execution_count": 6,
     "metadata": {
      "tags": []
     },
     "output_type": "execute_result"
    }
   ],
   "source": [
    "data_eval.head()"
   ]
  },
  {
   "cell_type": "code",
   "execution_count": 7,
   "metadata": {
    "colab": {},
    "colab_type": "code",
    "collapsed": true,
    "id": "xoS_g1iivW7a"
   },
   "outputs": [],
   "source": [
    "def get_token_features(q1, q2):\n",
    "    SAFE_DIV = 0.0001 \n",
    "    token_features = [0.0]*10\n",
    "    \n",
    "    # Converting the Sentence into Tokens: \n",
    "    q1_tokens = q1.split()\n",
    "    q2_tokens = q2.split()\n",
    "\n",
    "    if len(q1_tokens) == 0 or len(q2_tokens) == 0:\n",
    "        return token_features\n",
    "    # Get the non-stopwords in Questions\n",
    "    q1_words = set([word for word in q1_tokens])\n",
    "    q2_words = set([word for word in q2_tokens])\n",
    "    \n",
    "    #Get the stopwords in Questions\n",
    "    q1_stops = set([word for word in q1_tokens])\n",
    "    q2_stops = set([word for word in q2_tokens])\n",
    "    \n",
    "    # Get the common non-stopwords from Question pair\n",
    "    common_word_count = len(q1_words.intersection(q2_words))\n",
    "    \n",
    "    # Get the common stopwords from Question pair\n",
    "    common_stop_count = len(q1_stops.intersection(q2_stops))\n",
    "    \n",
    "    # Get the common Tokens from Question pair\n",
    "    common_token_count = len(set(q1_tokens).intersection(set(q2_tokens)))\n",
    "    \n",
    "    \n",
    "    token_features[0] = common_word_count / (min(len(q1_words), len(q2_words)) + SAFE_DIV)\n",
    "    token_features[1] = common_word_count / (max(len(q1_words), len(q2_words)) + SAFE_DIV)\n",
    "    token_features[2] = common_stop_count / (min(len(q1_stops), len(q2_stops)) + SAFE_DIV)\n",
    "    token_features[3] = common_stop_count / (max(len(q1_stops), len(q2_stops)) + SAFE_DIV)\n",
    "    token_features[4] = common_token_count / (min(len(q1_tokens), len(q2_tokens)) + SAFE_DIV)\n",
    "    token_features[5] = common_token_count / (max(len(q1_tokens), len(q2_tokens)) + SAFE_DIV)\n",
    "    \n",
    "    # Last word of both question is same or not\n",
    "    token_features[6] = int(q1_tokens[-1] == q2_tokens[-1])\n",
    "    \n",
    "    # First word of both question is same or not\n",
    "    token_features[7] = int(q1_tokens[0] == q2_tokens[0])\n",
    "    \n",
    "    token_features[8] = abs(len(q1_tokens) - len(q2_tokens))\n",
    "    \n",
    "    #Average Token Length of both Questions\n",
    "    token_features[9] = (len(q1_tokens) + len(q2_tokens))/2\n",
    "    return token_features\n",
    "\n",
    "# get the Longest Common sub string\n",
    "\n",
    "def get_longest_substr_ratio(a, b):\n",
    "    strs = list(distance.lcsubstrings(a, b))\n",
    "    if len(strs) == 0:\n",
    "        return 0\n",
    "    else:\n",
    "        return len(strs[0]) / (min(len(a), len(b)) + 1)\n",
    "\n",
    "def extract_features(df, f1, f2):\n",
    "    \n",
    "    token_features = df.apply(lambda x: get_token_features(x[f1], x[f2]), axis=1)\n",
    "    \n",
    "    df[\"cwc_min\"]       = list(map(lambda x: x[0], token_features))\n",
    "    df[\"cwc_max\"]       = list(map(lambda x: x[1], token_features))\n",
    "    df[\"csc_min\"]       = list(map(lambda x: x[2], token_features))\n",
    "    df[\"csc_max\"]       = list(map(lambda x: x[3], token_features))\n",
    "    df[\"ctc_min\"]       = list(map(lambda x: x[4], token_features))\n",
    "    df[\"ctc_max\"]       = list(map(lambda x: x[5], token_features))\n",
    "    df[\"last_word_eq\"]  = list(map(lambda x: x[6], token_features))\n",
    "    df[\"first_word_eq\"] = list(map(lambda x: x[7], token_features))\n",
    "    df[\"abs_len_diff\"]  = list(map(lambda x: x[8], token_features))\n",
    "    df[\"mean_len\"]      = list(map(lambda x: x[9], token_features))\n",
    "   \n",
    "    #Computing Fuzzy Features and Merging with Dataset\n",
    "    \n",
    "    # do read this blog: http://chairnerd.seatgeek.com/fuzzywuzzy-fuzzy-string-matching-in-python/\n",
    "    # https://stackoverflow.com/questions/31806695/when-to-use-which-fuzz-function-to-compare-2-strings\n",
    "    # https://github.com/seatgeek/fuzzywuzzy\n",
    "    print(\"fuzzy features..\")\n",
    "\n",
    "    df[\"token_set_ratio\"]       = df.apply(lambda x: fuzz.token_set_ratio(x[f1], x[f2]), axis=1)\n",
    "    # The token sort approach involves tokenizing the string in question, sorting the tokens alphabetically, and \n",
    "    # then joining them back into a string We then compare the transformed strings with a simple ratio().\n",
    "    df[\"token_sort_ratio\"]      = df.apply(lambda x: fuzz.token_sort_ratio(x[f1], x[f2]), axis=1)\n",
    "    df[\"fuzz_ratio\"]            = df.apply(lambda x: fuzz.QRatio(x[f1], x[f2]), axis=1)\n",
    "    df[\"fuzz_partial_ratio\"]    = df.apply(lambda x: fuzz.partial_ratio(x[f1], x[f2]), axis=1)\n",
    "    df[\"longest_substr_ratio\"]  = df.apply(lambda x: get_longest_substr_ratio(x[f1], x[f2]), axis=1)\n",
    "    \n",
    "    def normalized_word_Common(row):\n",
    "        w1 = set(map(lambda word: word.lower().strip(), row[f1].split(\" \")))\n",
    "        w2 = set(map(lambda word: word.lower().strip(), row[f2].split(\" \")))    \n",
    "        return 1.0 * len(w1 & w2)\n",
    "    df['word_Common'] = df.apply(normalized_word_Common, axis=1)\n",
    "\n",
    "    def normalized_word_Total(row):\n",
    "        w1 = set(map(lambda word: word.lower().strip(), row[f1].split(\" \")))\n",
    "        w2 = set(map(lambda word: word.lower().strip(), row[f2].split(\" \")))    \n",
    "        return 1.0 * (len(w1) + len(w2))\n",
    "    df['word_Total'] = df.apply(normalized_word_Total, axis=1)\n",
    "\n",
    "    def normalized_word_share(row):\n",
    "        w1 = set(map(lambda word: word.lower().strip(), row[f1].split(\" \")))\n",
    "        w2 = set(map(lambda word: word.lower().strip(), row[f2].split(\" \")))    \n",
    "        return 1.0 * len(w1 & w2)/(len(w2))\n",
    "    df['word_share'] = df.apply(normalized_word_share, axis=1)\n",
    "    \n",
    "    return df"
   ]
  },
  {
   "cell_type": "code",
   "execution_count": 8,
   "metadata": {
    "colab": {},
    "colab_type": "code",
    "collapsed": true,
    "id": "j-7UChYswnCy"
   },
   "outputs": [],
   "source": [
    "def remove_more_than_6(text):\n",
    "    string = \"\"\n",
    "    for word in text.split():\n",
    "        if re.search('\\d',word) and len(word)>6:\n",
    "            pass\n",
    "        elif re.search('(\\d+)(\\D+)',word) and re.search('(\\D+)(\\d+)',word):\n",
    "            pass\n",
    "        else:\n",
    "            string +=word+\" \"\n",
    "    return string.strip()"
   ]
  },
  {
   "cell_type": "code",
   "execution_count": 9,
   "metadata": {
    "colab": {},
    "colab_type": "code",
    "collapsed": true,
    "id": "Xuq94wxAxSro"
   },
   "outputs": [],
   "source": [
    "def replace_persons_cities(txt):\n",
    "    sents = nlp(txt) \n",
    "    for ee in sents.ents:\n",
    "        st = str(ee)\n",
    "        le = len(st)\n",
    "        if ee.label_==\"PERSON\" or ee.label_ == \"GPE\":\n",
    "            txt = txt[:txt.find(st)]+ \" \"+ee.label_+ \" \"+txt[txt.find(st)+le:]\n",
    "    return txt"
   ]
  },
  {
   "cell_type": "code",
   "execution_count": 10,
   "metadata": {
    "colab": {},
    "colab_type": "code",
    "collapsed": true,
    "id": "i14mr98ywtqv"
   },
   "outputs": [],
   "source": [
    "import re\n",
    "def preprocessing(text, replace=True):\n",
    "    text=re.sub(\"@\",\" at \",text) # 1\n",
    "    text=re.sub(\"%\",\" percent \",text) # 2\n",
    "    text= \" \".join([i[0]+\"_and_\"+i[2] if (('&' in i ) and (len(i)==3)) else i for i in text.split()]) # 3\n",
    "    text=re.sub(\"&\",\" and \",text) # 3\n",
    "    text=re.sub(\"\\$\",\"\",text) # 4\n",
    "    text=re.sub(\"->\",\" to \",text) # 5\n",
    "    text=re.sub(\"-\", \" \", text) # 6\n",
    "    text=re.sub(\",\", \" \", text) # 7\n",
    "    text=re.sub(\"(?<=\\D)/(?=\\D)\", \" \", text) # 8\n",
    "    text=re.sub(\"(?<=\\d)/(?=\\D)\", \" per \", text) # 8\n",
    "    text=re.sub('\"', \"\", text) # 9\n",
    "    text= \" \".join([i[0]+\"_and_\"+i[2] if (('.' in i ) and (len(i)==3)) else i for i in text.split()]) #10\n",
    "    text=re.sub(\"(?<=\\D)\\.(?=\\D)\", \" \", text) # 10\n",
    "    text=re.sub(\"(?<=\\d)\\.(?=\\D)\", \" \", text) # 10\n",
    "    text=re.sub('\\+', \" sum \", text) # 11\n",
    "    text=re.sub(':', \" \", text) # 12\n",
    "    text=re.sub(';', \" \", text) # 13\n",
    "    text=re.sub('\\|', \" \", text) # 14\n",
    "    text=re.sub('\\*', \"\", text) # 15\n",
    "    text=re.sub('#', \"\", text) # 16\n",
    "    text=re.sub(' x ', \" times \", text) # 17\n",
    "    text=re.sub(\"(?<=\\d)x(?=\\d)\", \" times \", text) # 10\n",
    "    text=re.sub('=', \" equals_to \", text) # 18\n",
    "    text=text.replace(\"'\", '').replace('[','').replace(']','').replace('{','').replace('}','').replace('(','').replace(')','')\n",
    "    # 18-25\n",
    "    text= \"\".join(filter(lambda x: ord(x)<128, text))# 25-33\n",
    "    text=re.sub(\"\\?\",\"\",text) # 34\n",
    "    text=re.sub(\"\\!\",\"\",text) # 34\n",
    "    text = re.sub('\\d{1}/\\d{1}/\\d{4}', \" date_string \" ,text)\n",
    "    text = re.sub('\\d{1}/\\d{1}/\\d{2}', \" date_string \" ,text)\n",
    "    text = re.sub('\\d{2}/\\d{2}/\\d{4}', \" date_string \" ,text)\n",
    "    text = re.sub('\\d{2}/\\d{2}/\\d{2}', \" date_string \" ,text)\n",
    "    text = re.sub(\"\\d{1,3}\\.\\d{1,3}\\.\\d{1,3}\\.\\d{1,3}/\\d{1,2}\",\" ip_address \",text)\n",
    "    text = re.sub('/', ' ', text)\n",
    "    if replace:\n",
    "        text = replace_persons_cities(text)\n",
    "    text = re.sub(' +', ' ', text)\n",
    "    text = text.lower()\n",
    "    text = text.strip()\n",
    "    if text.endswith(\".\"):\n",
    "        text= text[:-1]\n",
    "    text=re.sub(r\"\\d\", \"#\", text)\n",
    "    text= \" \".join([i for i in text.split() if len(i)>1]) #10\n",
    "    return text"
   ]
  },
  {
   "cell_type": "code",
   "execution_count": 11,
   "metadata": {
    "colab": {},
    "colab_type": "code",
    "collapsed": true,
    "id": "tTsz5ZW47RTM"
   },
   "outputs": [],
   "source": [
    "def concat(x):\n",
    "    x,y = x[0],x[1]\n",
    "    if len(y.split())<11:\n",
    "        return x.strip()+\" \"+y.strip()\n",
    "    elif len(x)==0:\n",
    "        return y.strip()\n",
    "    else:\n",
    "        return x.strip()"
   ]
  },
  {
   "cell_type": "code",
   "execution_count": 12,
   "metadata": {
    "colab": {},
    "colab_type": "code",
    "collapsed": true,
    "id": "nmyk7t9i-urx"
   },
   "outputs": [],
   "source": [
    "from sklearn.metrics import roc_auc_score\n",
    "def auroc(y_true, y_pred):\n",
    "    y_true= tf.reshape(y_true, shape=(-1,))\n",
    "    if tf.unique(y_true)[0].shape[0]==1:\n",
    "        print(tf.unique(y_true)[0].shape, \"hello\")\n",
    "        return 0.5\n",
    "    else:\n",
    "        return tf.py_function(roc_auc_score, (y_true, y_pred), tf.double)"
   ]
  },
  {
   "cell_type": "code",
   "execution_count": 13,
   "metadata": {
    "colab": {},
    "colab_type": "code",
    "collapsed": true,
    "id": "iZf5GMWgxCU5"
   },
   "outputs": [],
   "source": [
    "datap_eval=pd.DataFrame()\n",
    "for i in data_eval.columns:\n",
    "    data_eval[i] = data_eval[i].astype('str')\n",
    "    if not i in ['canonical_vendor_name','canonical_line_item_name']:\n",
    "        datap_eval[i]=data_eval[i].apply(preprocessing, replace=False)\n",
    "    else:\n",
    "        datap_eval[i]=data_eval[i].apply(preprocessing, replace=True)\n",
    "\n",
    "datap_eval = datap_eval.replace('nan', \"\")\n",
    "\n",
    "datap_items=pd.DataFrame()\n",
    "for i in data_items.columns:\n",
    "    datap_items[i]=data_items[i].apply(preprocessing, replace=False)"
   ]
  },
  {
   "cell_type": "code",
   "execution_count": 14,
   "metadata": {
    "colab": {
     "base_uri": "https://localhost:8080/",
     "height": 215
    },
    "colab_type": "code",
    "id": "-lqwm-ny05XM",
    "outputId": "bd2d4632-991c-496c-c89a-b6a533c081c4"
   },
   "outputs": [
    {
     "name": "stdout",
     "output_type": "stream",
     "text": [
      "(337, 4)\n"
     ]
    },
    {
     "data": {
      "text/html": [
       "<div>\n",
       "<style scoped>\n",
       "    .dataframe tbody tr th:only-of-type {\n",
       "        vertical-align: middle;\n",
       "    }\n",
       "\n",
       "    .dataframe tbody tr th {\n",
       "        vertical-align: top;\n",
       "    }\n",
       "\n",
       "    .dataframe thead th {\n",
       "        text-align: right;\n",
       "    }\n",
       "</style>\n",
       "<table border=\"1\" class=\"dataframe\">\n",
       "  <thead>\n",
       "    <tr style=\"text-align: right;\">\n",
       "      <th></th>\n",
       "      <th>canonical_vendor_name</th>\n",
       "      <th>line_item_nd</th>\n",
       "    </tr>\n",
       "  </thead>\n",
       "  <tbody>\n",
       "    <tr>\n",
       "      <th>0</th>\n",
       "      <td>## minute ventures</td>\n",
       "      <td>management services may #### services</td>\n",
       "    </tr>\n",
       "    <tr>\n",
       "      <th>1</th>\n",
       "      <td>adobe</td>\n",
       "      <td>acrobat pro dc</td>\n",
       "    </tr>\n",
       "    <tr>\n",
       "      <th>2</th>\n",
       "      <td>amazon business</td>\n",
       "      <td>aiex ## pieces adhesive poster tacky putty sti...</td>\n",
       "    </tr>\n",
       "    <tr>\n",
       "      <th>3</th>\n",
       "      <td>amazon business</td>\n",
       "      <td>amazonbasics aaa #_and_# volt performance alka...</td>\n",
       "    </tr>\n",
       "    <tr>\n",
       "      <th>4</th>\n",
       "      <td>amazon business</td>\n",
       "      <td>amazonbasics mesh trash can waste basket</td>\n",
       "    </tr>\n",
       "  </tbody>\n",
       "</table>\n",
       "</div>"
      ],
      "text/plain": [
       "  canonical_vendor_name                                       line_item_nd\n",
       "0    ## minute ventures              management services may #### services\n",
       "1                 adobe                                    acrobat pro dc \n",
       "2       amazon business  aiex ## pieces adhesive poster tacky putty sti...\n",
       "3       amazon business  amazonbasics aaa #_and_# volt performance alka...\n",
       "4       amazon business          amazonbasics mesh trash can waste basket "
      ]
     },
     "execution_count": 14,
     "metadata": {
      "tags": []
     },
     "output_type": "execute_result"
    }
   ],
   "source": [
    "print(datap_eval.shape)\n",
    "datap_eval['line_item_nd'] = datap_eval[['line_item_name','line_item_description']].apply(lambda x: concat(x),axis=1)\n",
    "datap_eval.drop(['line_item_name','line_item_description','canonical_line_item_name'],axis=1,inplace=True)\n",
    "datap_eval.head()"
   ]
  },
  {
   "cell_type": "code",
   "execution_count": 15,
   "metadata": {
    "colab": {
     "base_uri": "https://localhost:8080/",
     "height": 215
    },
    "colab_type": "code",
    "id": "5jvxnrJO3pnC",
    "outputId": "1778b924-1055-498e-a8f7-b6b907abd796"
   },
   "outputs": [
    {
     "name": "stdout",
     "output_type": "stream",
     "text": [
      "data points in validation (6228, 3)\n"
     ]
    },
    {
     "data": {
      "text/html": [
       "<div>\n",
       "<style scoped>\n",
       "    .dataframe tbody tr th:only-of-type {\n",
       "        vertical-align: middle;\n",
       "    }\n",
       "\n",
       "    .dataframe tbody tr th {\n",
       "        vertical-align: top;\n",
       "    }\n",
       "\n",
       "    .dataframe thead th {\n",
       "        text-align: right;\n",
       "    }\n",
       "</style>\n",
       "<table border=\"1\" class=\"dataframe\">\n",
       "  <thead>\n",
       "    <tr style=\"text-align: right;\">\n",
       "      <th></th>\n",
       "      <th>canonical_vendor_name</th>\n",
       "      <th>line_item_nd</th>\n",
       "      <th>canonical_line_item_name</th>\n",
       "    </tr>\n",
       "  </thead>\n",
       "  <tbody>\n",
       "    <tr>\n",
       "      <th>0</th>\n",
       "      <td>## minute ventures</td>\n",
       "      <td>management services may #### services</td>\n",
       "      <td>management services</td>\n",
       "    </tr>\n",
       "    <tr>\n",
       "      <th>1</th>\n",
       "      <td>adobe</td>\n",
       "      <td>acrobat pro dc</td>\n",
       "      <td>acrobat pro dc</td>\n",
       "    </tr>\n",
       "    <tr>\n",
       "      <th>2</th>\n",
       "      <td>adobe</td>\n",
       "      <td>acrobat pro dc</td>\n",
       "      <td>creative cloud all apps</td>\n",
       "    </tr>\n",
       "    <tr>\n",
       "      <th>3</th>\n",
       "      <td>amazon business</td>\n",
       "      <td>aiex ## pieces adhesive poster tacky putty sti...</td>\n",
       "      <td>anti theft adjustable tablet security stand</td>\n",
       "    </tr>\n",
       "    <tr>\n",
       "      <th>4</th>\n",
       "      <td>amazon business</td>\n",
       "      <td>aiex ## pieces adhesive poster tacky putty sti...</td>\n",
       "      <td>apple ipad</td>\n",
       "    </tr>\n",
       "  </tbody>\n",
       "</table>\n",
       "</div>"
      ],
      "text/plain": [
       "  canonical_vendor_name  ...                     canonical_line_item_name\n",
       "0    ## minute ventures  ...                          management services\n",
       "1                 adobe  ...                               acrobat pro dc\n",
       "2                 adobe  ...                      creative cloud all apps\n",
       "3       amazon business  ...  anti theft adjustable tablet security stand\n",
       "4       amazon business  ...                                   apple ipad\n",
       "\n",
       "[5 rows x 3 columns]"
      ]
     },
     "execution_count": 15,
     "metadata": {
      "tags": []
     },
     "output_type": "execute_result"
    }
   ],
   "source": [
    "validation=pd.merge(datap_eval, datap_items, on='canonical_vendor_name')\n",
    "print(\"data points in validation\",validation.shape)\n",
    "validation.head()"
   ]
  },
  {
   "cell_type": "code",
   "execution_count": 16,
   "metadata": {
    "colab": {
     "base_uri": "https://localhost:8080/",
     "height": 34
    },
    "colab_type": "code",
    "id": "P11q-LyC6Xb2",
    "outputId": "4a42ef66-2d69-4d85-bd66-d374b307792d"
   },
   "outputs": [
    {
     "name": "stdout",
     "output_type": "stream",
     "text": [
      "fuzzy features..\n"
     ]
    }
   ],
   "source": [
    "with_featres = extract_features(validation, \"line_item_nd\", \"canonical_line_item_name\")"
   ]
  },
  {
   "cell_type": "code",
   "execution_count": 17,
   "metadata": {
    "colab": {
     "base_uri": "https://localhost:8080/",
     "height": 351
    },
    "colab_type": "code",
    "id": "o9ALDeKEAMcG",
    "outputId": "da01ab2c-88b3-407f-c3ae-92f90911c67b"
   },
   "outputs": [
    {
     "data": {
      "text/html": [
       "<div>\n",
       "<style scoped>\n",
       "    .dataframe tbody tr th:only-of-type {\n",
       "        vertical-align: middle;\n",
       "    }\n",
       "\n",
       "    .dataframe tbody tr th {\n",
       "        vertical-align: top;\n",
       "    }\n",
       "\n",
       "    .dataframe thead th {\n",
       "        text-align: right;\n",
       "    }\n",
       "</style>\n",
       "<table border=\"1\" class=\"dataframe\">\n",
       "  <thead>\n",
       "    <tr style=\"text-align: right;\">\n",
       "      <th></th>\n",
       "      <th>canonical_vendor_name</th>\n",
       "      <th>line_item_nd</th>\n",
       "      <th>canonical_line_item_name</th>\n",
       "      <th>cwc_min</th>\n",
       "      <th>cwc_max</th>\n",
       "      <th>csc_min</th>\n",
       "      <th>csc_max</th>\n",
       "      <th>ctc_min</th>\n",
       "      <th>ctc_max</th>\n",
       "      <th>last_word_eq</th>\n",
       "      <th>first_word_eq</th>\n",
       "      <th>abs_len_diff</th>\n",
       "      <th>mean_len</th>\n",
       "      <th>token_set_ratio</th>\n",
       "      <th>token_sort_ratio</th>\n",
       "      <th>fuzz_ratio</th>\n",
       "      <th>fuzz_partial_ratio</th>\n",
       "      <th>longest_substr_ratio</th>\n",
       "      <th>word_Common</th>\n",
       "      <th>word_Total</th>\n",
       "      <th>word_share</th>\n",
       "    </tr>\n",
       "  </thead>\n",
       "  <tbody>\n",
       "    <tr>\n",
       "      <th>0</th>\n",
       "      <td>## minute ventures</td>\n",
       "      <td>management services may #### services</td>\n",
       "      <td>management services</td>\n",
       "      <td>0.999950</td>\n",
       "      <td>0.499988</td>\n",
       "      <td>0.999950</td>\n",
       "      <td>0.499988</td>\n",
       "      <td>0.999950</td>\n",
       "      <td>0.399992</td>\n",
       "      <td>1</td>\n",
       "      <td>1</td>\n",
       "      <td>3</td>\n",
       "      <td>3.5</td>\n",
       "      <td>100</td>\n",
       "      <td>75</td>\n",
       "      <td>68</td>\n",
       "      <td>100</td>\n",
       "      <td>0.950000</td>\n",
       "      <td>2.0</td>\n",
       "      <td>6.0</td>\n",
       "      <td>1.0</td>\n",
       "    </tr>\n",
       "    <tr>\n",
       "      <th>1</th>\n",
       "      <td>adobe</td>\n",
       "      <td>acrobat pro dc</td>\n",
       "      <td>acrobat pro dc</td>\n",
       "      <td>0.999967</td>\n",
       "      <td>0.999967</td>\n",
       "      <td>0.999967</td>\n",
       "      <td>0.999967</td>\n",
       "      <td>0.999967</td>\n",
       "      <td>0.999967</td>\n",
       "      <td>1</td>\n",
       "      <td>1</td>\n",
       "      <td>0</td>\n",
       "      <td>3.0</td>\n",
       "      <td>100</td>\n",
       "      <td>100</td>\n",
       "      <td>100</td>\n",
       "      <td>100</td>\n",
       "      <td>0.933333</td>\n",
       "      <td>3.0</td>\n",
       "      <td>7.0</td>\n",
       "      <td>1.0</td>\n",
       "    </tr>\n",
       "    <tr>\n",
       "      <th>2</th>\n",
       "      <td>adobe</td>\n",
       "      <td>acrobat pro dc</td>\n",
       "      <td>creative cloud all apps</td>\n",
       "      <td>0.000000</td>\n",
       "      <td>0.000000</td>\n",
       "      <td>0.000000</td>\n",
       "      <td>0.000000</td>\n",
       "      <td>0.000000</td>\n",
       "      <td>0.000000</td>\n",
       "      <td>0</td>\n",
       "      <td>0</td>\n",
       "      <td>1</td>\n",
       "      <td>3.5</td>\n",
       "      <td>32</td>\n",
       "      <td>32</td>\n",
       "      <td>38</td>\n",
       "      <td>53</td>\n",
       "      <td>0.125000</td>\n",
       "      <td>0.0</td>\n",
       "      <td>8.0</td>\n",
       "      <td>0.0</td>\n",
       "    </tr>\n",
       "    <tr>\n",
       "      <th>3</th>\n",
       "      <td>amazon business</td>\n",
       "      <td>aiex ## pieces adhesive poster tacky putty sti...</td>\n",
       "      <td>anti theft adjustable tablet security stand</td>\n",
       "      <td>0.000000</td>\n",
       "      <td>0.000000</td>\n",
       "      <td>0.000000</td>\n",
       "      <td>0.000000</td>\n",
       "      <td>0.000000</td>\n",
       "      <td>0.000000</td>\n",
       "      <td>0</td>\n",
       "      <td>0</td>\n",
       "      <td>18</td>\n",
       "      <td>15.0</td>\n",
       "      <td>34</td>\n",
       "      <td>33</td>\n",
       "      <td>33</td>\n",
       "      <td>51</td>\n",
       "      <td>0.113636</td>\n",
       "      <td>0.0</td>\n",
       "      <td>28.0</td>\n",
       "      <td>0.0</td>\n",
       "    </tr>\n",
       "    <tr>\n",
       "      <th>4</th>\n",
       "      <td>amazon business</td>\n",
       "      <td>aiex ## pieces adhesive poster tacky putty sti...</td>\n",
       "      <td>apple ipad</td>\n",
       "      <td>0.000000</td>\n",
       "      <td>0.000000</td>\n",
       "      <td>0.000000</td>\n",
       "      <td>0.000000</td>\n",
       "      <td>0.000000</td>\n",
       "      <td>0.000000</td>\n",
       "      <td>0</td>\n",
       "      <td>0</td>\n",
       "      <td>22</td>\n",
       "      <td>13.0</td>\n",
       "      <td>11</td>\n",
       "      <td>10</td>\n",
       "      <td>12</td>\n",
       "      <td>60</td>\n",
       "      <td>0.272727</td>\n",
       "      <td>0.0</td>\n",
       "      <td>24.0</td>\n",
       "      <td>0.0</td>\n",
       "    </tr>\n",
       "  </tbody>\n",
       "</table>\n",
       "</div>"
      ],
      "text/plain": [
       "  canonical_vendor_name  ... word_share\n",
       "0    ## minute ventures  ...        1.0\n",
       "1                 adobe  ...        1.0\n",
       "2                 adobe  ...        0.0\n",
       "3       amazon business  ...        0.0\n",
       "4       amazon business  ...        0.0\n",
       "\n",
       "[5 rows x 21 columns]"
      ]
     },
     "execution_count": 17,
     "metadata": {
      "tags": []
     },
     "output_type": "execute_result"
    }
   ],
   "source": [
    "x3 = with_featres.drop(['canonical_vendor_name','line_item_nd','canonical_line_item_name'], axis=1).values\n",
    "with_featres.head()"
   ]
  },
  {
   "cell_type": "code",
   "execution_count": 18,
   "metadata": {
    "colab": {},
    "colab_type": "code",
    "collapsed": true,
    "id": "BsBulx286jox"
   },
   "outputs": [],
   "source": [
    "x1 = t.texts_to_sequences(with_featres['line_item_nd'])\n",
    "x1 = pad_sequences(x1, maxlen=25,padding='post')\n",
    "\n",
    "x2 = t.texts_to_sequences(with_featres['canonical_line_item_name'])\n",
    "x2 = pad_sequences(x2, maxlen=25,padding='post')"
   ]
  },
  {
   "cell_type": "code",
   "execution_count": 19,
   "metadata": {
    "colab": {
     "base_uri": "https://localhost:8080/",
     "height": 34
    },
    "colab_type": "code",
    "id": "n1LzsfdZAykx",
    "outputId": "36ef4400-561f-4796-c584-25f0dfe067ab"
   },
   "outputs": [
    {
     "data": {
      "text/plain": [
       "((6228, 25), (6228, 25), (6228, 18))"
      ]
     },
     "execution_count": 19,
     "metadata": {
      "tags": []
     },
     "output_type": "execute_result"
    }
   ],
   "source": [
    "x1.shape, x2.shape, x3.shape"
   ]
  },
  {
   "cell_type": "code",
   "execution_count": 20,
   "metadata": {
    "colab": {},
    "colab_type": "code",
    "collapsed": true,
    "id": "D14Wo89s_CLD"
   },
   "outputs": [],
   "source": [
    "model = tf.keras.models.load_model('auc_0_9713.h5', custom_objects={'auroc': auroc})"
   ]
  },
  {
   "cell_type": "code",
   "execution_count": 24,
   "metadata": {
    "colab": {
     "base_uri": "https://localhost:8080/",
     "height": 230
    },
    "colab_type": "code",
    "id": "-3E3E-eoAFEQ",
    "outputId": "0fc650f9-a08f-48b9-b275-0cc857bcc330"
   },
   "outputs": [
    {
     "name": "stderr",
     "output_type": "stream",
     "text": [
      "/usr/local/lib/python3.6/dist-packages/ipykernel_launcher.py:3: SettingWithCopyWarning: \n",
      "A value is trying to be set on a copy of a slice from a DataFrame.\n",
      "Try using .loc[row_indexer,col_indexer] = value instead\n",
      "\n",
      "See the caveats in the documentation: https://pandas.pydata.org/pandas-docs/stable/user_guide/indexing.html#returning-a-view-versus-a-copy\n",
      "  This is separate from the ipykernel package so we can avoid doing imports until\n",
      "/usr/local/lib/python3.6/dist-packages/ipykernel_launcher.py:6: SettingWithCopyWarning: \n",
      "A value is trying to be set on a copy of a slice from a DataFrame.\n",
      "Try using .loc[row_indexer,col_indexer] = value instead\n",
      "\n",
      "See the caveats in the documentation: https://pandas.pydata.org/pandas-docs/stable/user_guide/indexing.html#returning-a-view-versus-a-copy\n",
      "  \n"
     ]
    }
   ],
   "source": [
    "# validation['predicted']\n",
    "predictions=model.predict([x1, x2, x3])\n",
    "validation['predicted']=predictions\n",
    "predictions=(predictions>0.015)\n",
    "predictions.dtype=np.int8\n",
    "validation['predictions']=predictions"
   ]
  },
  {
   "cell_type": "code",
   "execution_count": 25,
   "metadata": {
    "colab": {
     "base_uri": "https://localhost:8080/",
     "height": 347
    },
    "colab_type": "code",
    "id": "IDJv4tOuBW9E",
    "outputId": "a102c15a-4300-4263-9f0a-2639b74e51d4"
   },
   "outputs": [
    {
     "data": {
      "text/html": [
       "<div>\n",
       "<style scoped>\n",
       "    .dataframe tbody tr th:only-of-type {\n",
       "        vertical-align: middle;\n",
       "    }\n",
       "\n",
       "    .dataframe tbody tr th {\n",
       "        vertical-align: top;\n",
       "    }\n",
       "\n",
       "    .dataframe thead th {\n",
       "        text-align: right;\n",
       "    }\n",
       "</style>\n",
       "<table border=\"1\" class=\"dataframe\">\n",
       "  <thead>\n",
       "    <tr style=\"text-align: right;\">\n",
       "      <th></th>\n",
       "      <th>canonical_vendor_name</th>\n",
       "      <th>line_item_nd</th>\n",
       "      <th>canonical_line_item_name</th>\n",
       "      <th>predicted</th>\n",
       "      <th>predictions</th>\n",
       "    </tr>\n",
       "  </thead>\n",
       "  <tbody>\n",
       "    <tr>\n",
       "      <th>0</th>\n",
       "      <td>## minute ventures</td>\n",
       "      <td>management services may #### services</td>\n",
       "      <td>management services</td>\n",
       "      <td>9.999009e-01</td>\n",
       "      <td>1</td>\n",
       "    </tr>\n",
       "    <tr>\n",
       "      <th>1</th>\n",
       "      <td>adobe</td>\n",
       "      <td>acrobat pro dc</td>\n",
       "      <td>acrobat pro dc</td>\n",
       "      <td>7.122597e-02</td>\n",
       "      <td>1</td>\n",
       "    </tr>\n",
       "    <tr>\n",
       "      <th>2</th>\n",
       "      <td>adobe</td>\n",
       "      <td>acrobat pro dc</td>\n",
       "      <td>creative cloud all apps</td>\n",
       "      <td>5.821036e-01</td>\n",
       "      <td>1</td>\n",
       "    </tr>\n",
       "    <tr>\n",
       "      <th>3</th>\n",
       "      <td>amazon business</td>\n",
       "      <td>aiex ## pieces adhesive poster tacky putty sti...</td>\n",
       "      <td>anti theft adjustable tablet security stand</td>\n",
       "      <td>1.054113e-08</td>\n",
       "      <td>0</td>\n",
       "    </tr>\n",
       "    <tr>\n",
       "      <th>4</th>\n",
       "      <td>amazon business</td>\n",
       "      <td>aiex ## pieces adhesive poster tacky putty sti...</td>\n",
       "      <td>apple ipad</td>\n",
       "      <td>8.977413e-03</td>\n",
       "      <td>0</td>\n",
       "    </tr>\n",
       "    <tr>\n",
       "      <th>5</th>\n",
       "      <td>amazon business</td>\n",
       "      <td>aiex ## pieces adhesive poster tacky putty sti...</td>\n",
       "      <td>apple ipad with retina display</td>\n",
       "      <td>3.668864e-09</td>\n",
       "      <td>0</td>\n",
       "    </tr>\n",
       "    <tr>\n",
       "      <th>6</th>\n",
       "      <td>amazon business</td>\n",
       "      <td>aiex ## pieces adhesive poster tacky putty sti...</td>\n",
       "      <td>apple ipad with retina display md###ll ##gb wi...</td>\n",
       "      <td>5.042089e-08</td>\n",
       "      <td>0</td>\n",
       "    </tr>\n",
       "    <tr>\n",
       "      <th>7</th>\n",
       "      <td>amazon business</td>\n",
       "      <td>aiex ## pieces adhesive poster tacky putty sti...</td>\n",
       "      <td>oval plastic storage tubs with handle</td>\n",
       "      <td>3.384124e-06</td>\n",
       "      <td>0</td>\n",
       "    </tr>\n",
       "    <tr>\n",
       "      <th>8</th>\n",
       "      <td>amazon business</td>\n",
       "      <td>aiex ## pieces adhesive poster tacky putty sti...</td>\n",
       "      <td>sunland mesh dish cloths for washing dishes no...</td>\n",
       "      <td>1.718738e-07</td>\n",
       "      <td>0</td>\n",
       "    </tr>\n",
       "    <tr>\n",
       "      <th>9</th>\n",
       "      <td>amazon business</td>\n",
       "      <td>aiex ## pieces adhesive poster tacky putty sti...</td>\n",
       "      <td>usb charger nekteck ##w type wall charger usb ...</td>\n",
       "      <td>7.733980e-08</td>\n",
       "      <td>0</td>\n",
       "    </tr>\n",
       "  </tbody>\n",
       "</table>\n",
       "</div>"
      ],
      "text/plain": [
       "  canonical_vendor_name  ... predictions\n",
       "0    ## minute ventures  ...           1\n",
       "1                 adobe  ...           1\n",
       "2                 adobe  ...           1\n",
       "3       amazon business  ...           0\n",
       "4       amazon business  ...           0\n",
       "5       amazon business  ...           0\n",
       "6       amazon business  ...           0\n",
       "7       amazon business  ...           0\n",
       "8       amazon business  ...           0\n",
       "9       amazon business  ...           0\n",
       "\n",
       "[10 rows x 5 columns]"
      ]
     },
     "execution_count": 25,
     "metadata": {
      "tags": []
     },
     "output_type": "execute_result"
    }
   ],
   "source": [
    "validation = validation[['canonical_vendor_name','line_item_nd','canonical_line_item_name','predicted', 'predictions']]\n",
    "validation.head(10)"
   ]
  },
  {
   "cell_type": "code",
   "execution_count": 28,
   "metadata": {
    "colab": {
     "base_uri": "https://localhost:8080/",
     "height": 347
    },
    "colab_type": "code",
    "id": "Pig-muanEANl",
    "outputId": "16c32023-843a-4b5c-cef7-160d0d249fb3"
   },
   "outputs": [
    {
     "data": {
      "text/html": [
       "<div>\n",
       "<style scoped>\n",
       "    .dataframe tbody tr th:only-of-type {\n",
       "        vertical-align: middle;\n",
       "    }\n",
       "\n",
       "    .dataframe tbody tr th {\n",
       "        vertical-align: top;\n",
       "    }\n",
       "\n",
       "    .dataframe thead th {\n",
       "        text-align: right;\n",
       "    }\n",
       "</style>\n",
       "<table border=\"1\" class=\"dataframe\">\n",
       "  <thead>\n",
       "    <tr style=\"text-align: right;\">\n",
       "      <th></th>\n",
       "      <th>canonical_vendor_name</th>\n",
       "      <th>line_item_nd</th>\n",
       "      <th>canonical_line_item_name</th>\n",
       "      <th>predicted</th>\n",
       "      <th>predictions</th>\n",
       "    </tr>\n",
       "  </thead>\n",
       "  <tbody>\n",
       "    <tr>\n",
       "      <th>0</th>\n",
       "      <td>## minute ventures</td>\n",
       "      <td>management services may #### services</td>\n",
       "      <td>management services</td>\n",
       "      <td>0.999901</td>\n",
       "      <td>1</td>\n",
       "    </tr>\n",
       "    <tr>\n",
       "      <th>1</th>\n",
       "      <td>adobe</td>\n",
       "      <td>acrobat pro dc</td>\n",
       "      <td>acrobat pro dc</td>\n",
       "      <td>0.071226</td>\n",
       "      <td>1</td>\n",
       "    </tr>\n",
       "    <tr>\n",
       "      <th>2</th>\n",
       "      <td>adobe</td>\n",
       "      <td>acrobat pro dc</td>\n",
       "      <td>creative cloud all apps</td>\n",
       "      <td>0.582104</td>\n",
       "      <td>1</td>\n",
       "    </tr>\n",
       "    <tr>\n",
       "      <th>17</th>\n",
       "      <td>amazon business</td>\n",
       "      <td>aiex ## pieces adhesive poster tacky putty sti...</td>\n",
       "      <td>aiex ## pieces adhesive poster tacky putty sti...</td>\n",
       "      <td>0.850372</td>\n",
       "      <td>1</td>\n",
       "    </tr>\n",
       "    <tr>\n",
       "      <th>159</th>\n",
       "      <td>amazon business</td>\n",
       "      <td>amazonbasics aaa #_and_# volt performance alka...</td>\n",
       "      <td>amazonbasics aaa #_and_# volt performance alka...</td>\n",
       "      <td>0.144146</td>\n",
       "      <td>1</td>\n",
       "    </tr>\n",
       "    <tr>\n",
       "      <th>232</th>\n",
       "      <td>amazon business</td>\n",
       "      <td>amazonbasics mesh trash can waste basket</td>\n",
       "      <td>sunland mesh dish cloths for washing dishes no...</td>\n",
       "      <td>0.032568</td>\n",
       "      <td>1</td>\n",
       "    </tr>\n",
       "    <tr>\n",
       "      <th>273</th>\n",
       "      <td>amazon business</td>\n",
       "      <td>amazonbasics mesh trash can waste basket</td>\n",
       "      <td>amazonbasics mesh trash can waste basket</td>\n",
       "      <td>0.989626</td>\n",
       "      <td>1</td>\n",
       "    </tr>\n",
       "    <tr>\n",
       "      <th>274</th>\n",
       "      <td>amazon business</td>\n",
       "      <td>amazonbasics mesh trash can waste basket</td>\n",
       "      <td>amazonbasics multipurpose copy printer paper w...</td>\n",
       "      <td>0.042189</td>\n",
       "      <td>1</td>\n",
       "    </tr>\n",
       "    <tr>\n",
       "      <th>316</th>\n",
       "      <td>amazon business</td>\n",
       "      <td>amazonbasics mesh trash can waste basket</td>\n",
       "      <td>philonext halloween decorations spider webs sp...</td>\n",
       "      <td>0.042278</td>\n",
       "      <td>1</td>\n",
       "    </tr>\n",
       "    <tr>\n",
       "      <th>354</th>\n",
       "      <td>amazon business</td>\n",
       "      <td>amazonfresh mediterranean extra virgin olive o...</td>\n",
       "      <td>amazonfresh mediterranean extra virgin olive o...</td>\n",
       "      <td>0.999240</td>\n",
       "      <td>1</td>\n",
       "    </tr>\n",
       "  </tbody>\n",
       "</table>\n",
       "</div>"
      ],
      "text/plain": [
       "    canonical_vendor_name  ... predictions\n",
       "0      ## minute ventures  ...           1\n",
       "1                   adobe  ...           1\n",
       "2                   adobe  ...           1\n",
       "17        amazon business  ...           1\n",
       "159       amazon business  ...           1\n",
       "232       amazon business  ...           1\n",
       "273       amazon business  ...           1\n",
       "274       amazon business  ...           1\n",
       "316       amazon business  ...           1\n",
       "354       amazon business  ...           1\n",
       "\n",
       "[10 rows x 5 columns]"
      ]
     },
     "execution_count": 28,
     "metadata": {
      "tags": []
     },
     "output_type": "execute_result"
    }
   ],
   "source": [
    "validation[validation['predictions']==1].head(10)\n",
    "# we can surely see, there are false positives here"
   ]
  }
 ],
 "metadata": {
  "colab": {
   "collapsed_sections": [],
   "name": "inference",
   "provenance": []
  },
  "kernelspec": {
   "display_name": "Python 3",
   "language": "python",
   "name": "python3"
  },
  "language_info": {
   "codemirror_mode": {
    "name": "ipython",
    "version": 3
   },
   "file_extension": ".py",
   "mimetype": "text/x-python",
   "name": "python",
   "nbconvert_exporter": "python",
   "pygments_lexer": "ipython3",
   "version": "3.6.2"
  }
 },
 "nbformat": 4,
 "nbformat_minor": 1
}
